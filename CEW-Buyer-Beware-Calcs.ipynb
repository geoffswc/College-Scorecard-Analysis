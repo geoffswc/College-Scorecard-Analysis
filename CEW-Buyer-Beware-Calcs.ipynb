{
 "cells": [
  {
   "cell_type": "markdown",
   "metadata": {},
   "source": [
    "### How often does pay for lower degree levels exceed higher degree levels?\n",
    "\n",
    "Generally speaking, higher levels of education lead to higher salaries. Workers with Masters degrees earn more, on average, than workers with Bachelors degrees. Workers with Doctoral degrees earn, on average, more than workers with Masters degrees. \n",
    "\n",
    "That said, it's fairly common knowledge that the institution and academic field play a substantial, often greater role in determining compensation. A bachelors degree in electrical engineering will likely result in higher salaries than a masters degree in journalism. A degree from an elite law school is likely to result in a much higher salary than a mid-tier program. \n",
    "\n",
    "The US Deparatment of education recently released data [1] that allows a much finer-grained analysis of trends in degree level, program, and academic subject. \n",
    "\n",
    "This data was used by The Center on Education and Workforce at Georgetown to analyze the financial value of various academic degrees and programs relative to average student indebtedness [2]. \n",
    "\n",
    "[1] https://collegescorecard.ed.gov/data/\n",
    "\n",
    "[2] http://cew.georgetown.edu/wp-content/uploads/CEW-Buyer-Beware.pdf \n",
    "Note - The study appears to have used the 1516-1617 The notebook here will work for most recent cohorts as well, though the data around salary and cohort size will change. However, if you want to recreate the figures provided in the study, use the 1516-1617 set. "
   ]
  },
  {
   "cell_type": "markdown",
   "metadata": {},
   "source": [
    "The article is that in the general workforce, higher degree levels don't necessarily imply higher pay:\n",
    "\n",
    " 27 percent of workers with an associate’s degree earn more than the median for workers with a bachelor’s degree\n",
    "\n",
    " 35 percent of workers with a bachelor’s degree earn more than the median for workers with a master’s degree\n",
    "\n",
    " 31 percent of workers with a master’s degree earn more than the median for workers with a doctoral degree\n",
    "\n",
    " 22 percent of workers with a master’s degree earn more than the median for workers with a professional degree\n",
    "\n",
    "Note that this data is based on Georgetown University Center on Education and the Workforce analysis of data from the Current Population Survey, 2019, which measures pay \"among full-time, full-year workers,\n",
    "25 to 64 years old\", not from the College Scorecard dataset, which measures 1st and 2nd year pay after completion of a program. "
   ]
  },
  {
   "cell_type": "markdown",
   "metadata": {},
   "source": [
    "In this notebook, I tried recreating these numbers for the 1st year earnings, to investigate the possible difference between recent graduates and the workforce in general.\n",
    "\n",
    "My conculsion: \n",
    "\n",
    "Based on the data 1516-1617 dataset (the one used for the study), the advantages of higher degree are considerably less notable in first year earnings than for the workforce at large. \n",
    "\n",
    "For 1st year graduates:\n",
    "\n",
    "* 18 percent of workers with an associate’s degree earn more than the median for workers with a bachelor’s degree\n",
    "\n",
    "* 17 percent of workers with a bachelor’s degree earn more than the median for workers with a master’s degree\n",
    "\n",
    "* 15 percent of workers with a master’s degree earn more than the median for workers with a doctoral degree\n",
    "\n",
    "* 28 percent of workers with a master’s degree earn more than the median for workers with a professional degree"
   ]
  },
  {
   "cell_type": "markdown",
   "metadata": {},
   "source": [
    "There are a number of possibile interpretations. Tthe value of a higher degree may be decreasing over time, or the benefits of a higher degree may accrue later in a career, or immediate and long term benefits may be much more pronounced in certain specialized fields of study (and not reflected in data aggregated for all fields). \n",
    "\n",
    "The workbook below shows my queries and calculations for generating the stats above. \n",
    "\n",
    "<b>NOTE: The query and calculation pipeline here is intricate, and I haven't had anyone else look at this yet. So I'm hesitant to draw any conculsions at all until I'm more confident in the accuracy of this notebook. I would welcome a code review, or another independent effort to confirm or correct the numbers above.</b>"
   ]
  },
  {
   "cell_type": "code",
   "execution_count": 2,
   "metadata": {},
   "outputs": [],
   "source": [
    "import pandas as pd\n",
    "pd.set_option('display.max_colwidth', None)\n",
    "from pandasql import sqldf\n",
    "pysqldf = lambda q: sqldf(q, globals())"
   ]
  },
  {
   "cell_type": "markdown",
   "metadata": {},
   "source": [
    "### Getting the data:\n",
    "\n",
    "To download the dataset used here, go to:\n",
    "    \n",
    "https://collegescorecard.ed.gov/data/\n",
    "    \n",
    "And follow the link for: \n",
    "\n",
    "https://data.ed.gov/dataset/college-scorecard-all-data-files-through-6-2020/resources\n",
    "\n",
    "Download \"All College Scorecard Data Files\"\n",
    "\n",
    "Several datasets are available. I used the same dataset referenced in the study, FieldOfStudyData1516_1617_PP.csv. However, you can run this notebook using the more recent dataset."
   ]
  },
  {
   "cell_type": "code",
   "execution_count": 3,
   "metadata": {},
   "outputs": [],
   "source": [
    "df = pd.read_csv('data/FieldOfStudyData1516_1617_PP.csv')"
   ]
  },
  {
   "cell_type": "code",
   "execution_count": 4,
   "metadata": {},
   "outputs": [
    {
     "data": {
      "text/plain": [
       "218901"
      ]
     },
     "execution_count": 4,
     "metadata": {},
     "output_type": "execute_result"
    }
   ],
   "source": [
    "len(df)"
   ]
  },
  {
   "cell_type": "markdown",
   "metadata": {},
   "source": [
    "#### Remove missing data\n",
    "\n",
    "Prior to analysis, I'm removing all rows without 1st year earnings data (PrivacySuppressed). \n",
    "\n",
    "For privacy reasons and to avoid reporting personally identifiable data, programs with small cohorts do not report data. Unfortunately, there's a good chance this may introduce bias into the dataset, as some degree programs have much larger graduating cohorts than others. Harvard law school, a large cohort, will report numbers, whereas the Doctoral Programs in Operations Research at UC Berkeley, typically a small cohort, does not. As a result, conculsions may be skewed by the uneven availability of data across program, discipline, and degree types. \n",
    "\n"
   ]
  },
  {
   "cell_type": "code",
   "execution_count": 6,
   "metadata": {},
   "outputs": [],
   "source": [
    "df_1yr = pysqldf(\"\"\"\n",
    "SELECT \n",
    "    INSTNM, \n",
    "    CIPCODE,\n",
    "    CIPDESC, \n",
    "    CREDLEV, \n",
    "    CREDDESC, \n",
    "    EARN_COUNT_WNE_HI_1YR * 1 AS EARN_COUNT_WNE_HI_1YR, \n",
    "    EARN_MDN_HI_1YR * 1.0 AS EARN_MDN_HI_1YR\n",
    "FROM \n",
    "    df\n",
    "WHERE\n",
    "    EARN_MDN_HI_1YR <> 'PrivacySuppressed'\n",
    "ORDER BY EARN_MDN_HI_1YR\n",
    "\"\"\")"
   ]
  },
  {
   "cell_type": "code",
   "execution_count": 7,
   "metadata": {},
   "outputs": [
    {
     "data": {
      "text/plain": [
       "0.5176439721894267"
      ]
     },
     "execution_count": 7,
     "metadata": {},
     "output_type": "execute_result"
    }
   ],
   "source": [
    "3946/7623"
   ]
  },
  {
   "cell_type": "markdown",
   "metadata": {},
   "source": [
    "For simplicity, I'll use the the credlev code for each degree level. As a visual reference, here's a look up table."
   ]
  },
  {
   "cell_type": "code",
   "execution_count": 8,
   "metadata": {},
   "outputs": [
    {
     "data": {
      "text/html": [
       "<div>\n",
       "<style scoped>\n",
       "    .dataframe tbody tr th:only-of-type {\n",
       "        vertical-align: middle;\n",
       "    }\n",
       "\n",
       "    .dataframe tbody tr th {\n",
       "        vertical-align: top;\n",
       "    }\n",
       "\n",
       "    .dataframe thead th {\n",
       "        text-align: right;\n",
       "    }\n",
       "</style>\n",
       "<table border=\"1\" class=\"dataframe\">\n",
       "  <thead>\n",
       "    <tr style=\"text-align: right;\">\n",
       "      <th></th>\n",
       "      <th>CREDLEV</th>\n",
       "      <th>CREDDESC</th>\n",
       "    </tr>\n",
       "  </thead>\n",
       "  <tbody>\n",
       "    <tr>\n",
       "      <th>0</th>\n",
       "      <td>1</td>\n",
       "      <td>Undergraduate Certificate or Diploma</td>\n",
       "    </tr>\n",
       "    <tr>\n",
       "      <th>1</th>\n",
       "      <td>2</td>\n",
       "      <td>Associate's Degree</td>\n",
       "    </tr>\n",
       "    <tr>\n",
       "      <th>2</th>\n",
       "      <td>3</td>\n",
       "      <td>Bachelors Degree</td>\n",
       "    </tr>\n",
       "    <tr>\n",
       "      <th>3</th>\n",
       "      <td>4</td>\n",
       "      <td>Post-baccalaureate Certificate</td>\n",
       "    </tr>\n",
       "    <tr>\n",
       "      <th>4</th>\n",
       "      <td>5</td>\n",
       "      <td>Master's Degree</td>\n",
       "    </tr>\n",
       "    <tr>\n",
       "      <th>5</th>\n",
       "      <td>6</td>\n",
       "      <td>Doctoral Degree</td>\n",
       "    </tr>\n",
       "    <tr>\n",
       "      <th>6</th>\n",
       "      <td>7</td>\n",
       "      <td>First Professional Degree</td>\n",
       "    </tr>\n",
       "    <tr>\n",
       "      <th>7</th>\n",
       "      <td>8</td>\n",
       "      <td>Graduate/Professional Certificate</td>\n",
       "    </tr>\n",
       "  </tbody>\n",
       "</table>\n",
       "</div>"
      ],
      "text/plain": [
       "   CREDLEV                              CREDDESC\n",
       "0        1  Undergraduate Certificate or Diploma\n",
       "1        2                    Associate's Degree\n",
       "2        3                      Bachelors Degree\n",
       "3        4        Post-baccalaureate Certificate\n",
       "4        5                       Master's Degree\n",
       "5        6                       Doctoral Degree\n",
       "6        7             First Professional Degree\n",
       "7        8     Graduate/Professional Certificate"
      ]
     },
     "execution_count": 8,
     "metadata": {},
     "output_type": "execute_result"
    }
   ],
   "source": [
    "pysqldf(\"SELECT DISTINCT CREDLEV, CREDDESC FROM df_1yr ORDER BY CREDLEV\")"
   ]
  },
  {
   "cell_type": "markdown",
   "metadata": {},
   "source": [
    "I couldn't see where the Georgetown article reference which dataset it was using, so I spot checked a few numbers and concluded it was the 1516-1617 dataset. \n",
    "\n",
    "Here are a few spot checks:\n",
    "\n",
    "<i>Graduates who earn an associate’s degree from\n",
    "Pierpont Community and Technical College in West Virginia to become an electrical and\n",
    "power transmission installer can expect to make \\\\$6,700 per month (\\\\$80,400 per year) in\n",
    "their first year after graduation.</i>\n",
    "\n",
    "Ever so slightly off, I get \\\\$80,100, but close enough."
   ]
  },
  {
   "cell_type": "code",
   "execution_count": 9,
   "metadata": {},
   "outputs": [
    {
     "data": {
      "text/html": [
       "<div>\n",
       "<style scoped>\n",
       "    .dataframe tbody tr th:only-of-type {\n",
       "        vertical-align: middle;\n",
       "    }\n",
       "\n",
       "    .dataframe tbody tr th {\n",
       "        vertical-align: top;\n",
       "    }\n",
       "\n",
       "    .dataframe thead th {\n",
       "        text-align: right;\n",
       "    }\n",
       "</style>\n",
       "<table border=\"1\" class=\"dataframe\">\n",
       "  <thead>\n",
       "    <tr style=\"text-align: right;\">\n",
       "      <th></th>\n",
       "      <th>INSTNM</th>\n",
       "      <th>CIPCODE</th>\n",
       "      <th>CIPDESC</th>\n",
       "      <th>CREDLEV</th>\n",
       "      <th>CREDDESC</th>\n",
       "      <th>EARN_COUNT_WNE_HI_1YR</th>\n",
       "      <th>EARN_MDN_HI_1YR</th>\n",
       "    </tr>\n",
       "  </thead>\n",
       "  <tbody>\n",
       "    <tr>\n",
       "      <th>0</th>\n",
       "      <td>Pierpont Community and Technical College</td>\n",
       "      <td>4603</td>\n",
       "      <td>Electrical and Power Transmission Installers.</td>\n",
       "      <td>2</td>\n",
       "      <td>Associate's Degree</td>\n",
       "      <td>0</td>\n",
       "      <td>80100.0</td>\n",
       "    </tr>\n",
       "  </tbody>\n",
       "</table>\n",
       "</div>"
      ],
      "text/plain": [
       "                                     INSTNM  CIPCODE  \\\n",
       "0  Pierpont Community and Technical College     4603   \n",
       "\n",
       "                                         CIPDESC  CREDLEV            CREDDESC  \\\n",
       "0  Electrical and Power Transmission Installers.        2  Associate's Degree   \n",
       "\n",
       "   EARN_COUNT_WNE_HI_1YR  EARN_MDN_HI_1YR  \n",
       "0                      0          80100.0  "
      ]
     },
     "execution_count": 9,
     "metadata": {},
     "output_type": "execute_result"
    }
   ],
   "source": [
    "pysqldf(\"\"\"\n",
    "SELECT \n",
    "    * \n",
    "FROM \n",
    "    df_1yr \n",
    "WHERE \n",
    "    INSTNM = 'Pierpont Community and Technical College'\n",
    "AND \n",
    "    CIPDESC = 'Electrical and Power Transmission Installers.'\n",
    "\"\"\")"
   ]
  },
  {
   "cell_type": "markdown",
   "metadata": {},
   "source": [
    "One more spot check...\n",
    "\n",
    "<i>the first-year earnings of a person who is awarded\n",
    "an associate’s degree in nursing from City University of New York (CUNY) LaGuardia Community College are \\\\$5,017 per month, which is about \\\\$800 higher than the median monthly earnings of graduates from master’s degree programs at all institutions.</i>\n",
    "\n",
    "A query aagainst the 1516-1617 data set gives the same answer, confirmed below. "
   ]
  },
  {
   "cell_type": "code",
   "execution_count": 11,
   "metadata": {},
   "outputs": [
    {
     "data": {
      "text/html": [
       "<div>\n",
       "<style scoped>\n",
       "    .dataframe tbody tr th:only-of-type {\n",
       "        vertical-align: middle;\n",
       "    }\n",
       "\n",
       "    .dataframe tbody tr th {\n",
       "        vertical-align: top;\n",
       "    }\n",
       "\n",
       "    .dataframe thead th {\n",
       "        text-align: right;\n",
       "    }\n",
       "</style>\n",
       "<table border=\"1\" class=\"dataframe\">\n",
       "  <thead>\n",
       "    <tr style=\"text-align: right;\">\n",
       "      <th></th>\n",
       "      <th>INSTNM</th>\n",
       "      <th>CIPCODE</th>\n",
       "      <th>CIPDESC</th>\n",
       "      <th>CREDLEV</th>\n",
       "      <th>CREDDESC</th>\n",
       "      <th>EARN_COUNT_WNE_HI_1YR</th>\n",
       "      <th>EARN_MDN_HI_1YR</th>\n",
       "    </tr>\n",
       "  </thead>\n",
       "  <tbody>\n",
       "    <tr>\n",
       "      <th>0</th>\n",
       "      <td>CUNY LaGuardia Community College</td>\n",
       "      <td>5138</td>\n",
       "      <td>Registered Nursing, Nursing Administration, Nursing Research and Clinical Nursing.</td>\n",
       "      <td>2</td>\n",
       "      <td>Associate's Degree</td>\n",
       "      <td>24</td>\n",
       "      <td>60200.0</td>\n",
       "    </tr>\n",
       "  </tbody>\n",
       "</table>\n",
       "</div>"
      ],
      "text/plain": [
       "                             INSTNM  CIPCODE  \\\n",
       "0  CUNY LaGuardia Community College     5138   \n",
       "\n",
       "                                                                              CIPDESC  \\\n",
       "0  Registered Nursing, Nursing Administration, Nursing Research and Clinical Nursing.   \n",
       "\n",
       "   CREDLEV            CREDDESC  EARN_COUNT_WNE_HI_1YR  EARN_MDN_HI_1YR  \n",
       "0        2  Associate's Degree                     24          60200.0  "
      ]
     },
     "execution_count": 11,
     "metadata": {},
     "output_type": "execute_result"
    }
   ],
   "source": [
    "pysqldf(\"\"\"\n",
    "SELECT \n",
    "    * \n",
    "FROM \n",
    "    df_1yr \n",
    "WHERE \n",
    "    INSTNM = 'CUNY LaGuardia Community College'\n",
    "AND\n",
    "    CIPDESC = 'Registered Nursing, Nursing Administration, Nursing Research and Clinical Nursing.'\n",
    "AND\n",
    "    CREDLEV = 2\n",
    "\"\"\")"
   ]
  },
  {
   "cell_type": "code",
   "execution_count": 15,
   "metadata": {},
   "outputs": [
    {
     "data": {
      "text/plain": [
       "5016.666666666667"
      ]
     },
     "execution_count": 15,
     "metadata": {},
     "output_type": "execute_result"
    }
   ],
   "source": [
    "60200.0 / 12"
   ]
  },
  {
   "cell_type": "markdown",
   "metadata": {},
   "source": [
    "Moving on to the calculation pipeline. \n",
    "\n",
    "My goal is to to calculate the percent of each degree level that exceeds the median for the degree level above it.\n",
    "\n",
    "For simplicity, I'll create a separate dataframe for each degree level. "
   ]
  },
  {
   "cell_type": "code",
   "execution_count": 12,
   "metadata": {},
   "outputs": [],
   "source": [
    "df_asoc = pysqldf(\"SELECT * FROM df_1yr WHERE CREDLEV = 2\")\n",
    "df_bach = pysqldf(\"SELECT * FROM df_1yr WHERE CREDLEV = 3\")\n",
    "df_ms = pysqldf(\"SELECT * FROM df_1yr WHERE CREDLEV = 5\")\n",
    "df_prof = pysqldf(\"SELECT * FROM df_1yr WHERE CREDLEV = 7\")\n",
    "df_doc = pysqldf(\"SELECT * FROM df_1yr WHERE CREDLEV = 6\")"
   ]
  },
  {
   "cell_type": "markdown",
   "metadata": {},
   "source": [
    "To get the median for all graduates, I need to consider the number of graduates in each cohort (I can't take the median for all programs as the median for all students, because there are varying numbers of graduates in each cohort).\n",
    "\n",
    "To do this, I'll take the cumulative sum of the number of graduates in each program ordered by earnings (2nd year out)."
   ]
  },
  {
   "cell_type": "code",
   "execution_count": 13,
   "metadata": {},
   "outputs": [],
   "source": [
    "df_asoc['num_below'] = df_asoc['EARN_COUNT_WNE_HI_1YR'].cumsum()\n",
    "df_bach['num_below'] = df_bach['EARN_COUNT_WNE_HI_1YR'].cumsum()\n",
    "df_ms['num_below'] = df_ms['EARN_COUNT_WNE_HI_1YR'].cumsum()\n",
    "df_prof['num_below'] = df_prof['EARN_COUNT_WNE_HI_1YR'].cumsum()\n",
    "df_doc['num_below'] = df_doc['EARN_COUNT_WNE_HI_1YR'].cumsum()"
   ]
  },
  {
   "cell_type": "markdown",
   "metadata": {},
   "source": [
    "... and do a quick sanity check through visual inspection to make sure ordering is correct"
   ]
  },
  {
   "cell_type": "code",
   "execution_count": 15,
   "metadata": {},
   "outputs": [
    {
     "data": {
      "text/html": [
       "<div>\n",
       "<style scoped>\n",
       "    .dataframe tbody tr th:only-of-type {\n",
       "        vertical-align: middle;\n",
       "    }\n",
       "\n",
       "    .dataframe tbody tr th {\n",
       "        vertical-align: top;\n",
       "    }\n",
       "\n",
       "    .dataframe thead th {\n",
       "        text-align: right;\n",
       "    }\n",
       "</style>\n",
       "<table border=\"1\" class=\"dataframe\">\n",
       "  <thead>\n",
       "    <tr style=\"text-align: right;\">\n",
       "      <th></th>\n",
       "      <th>INSTNM</th>\n",
       "      <th>CIPCODE</th>\n",
       "      <th>CIPDESC</th>\n",
       "      <th>CREDLEV</th>\n",
       "      <th>CREDDESC</th>\n",
       "      <th>EARN_COUNT_WNE_HI_1YR</th>\n",
       "      <th>EARN_MDN_HI_1YR</th>\n",
       "      <th>num_below</th>\n",
       "    </tr>\n",
       "  </thead>\n",
       "  <tbody>\n",
       "    <tr>\n",
       "      <th>0</th>\n",
       "      <td>Stanbridge University</td>\n",
       "      <td>5123</td>\n",
       "      <td>Rehabilitation and Therapeutic Professions.</td>\n",
       "      <td>5</td>\n",
       "      <td>Master's Degree</td>\n",
       "      <td>0</td>\n",
       "      <td>5500.0</td>\n",
       "      <td>0</td>\n",
       "    </tr>\n",
       "    <tr>\n",
       "      <th>1</th>\n",
       "      <td>Touro College</td>\n",
       "      <td>3001</td>\n",
       "      <td>Biological and Physical Sciences.</td>\n",
       "      <td>5</td>\n",
       "      <td>Master's Degree</td>\n",
       "      <td>28</td>\n",
       "      <td>9500.0</td>\n",
       "      <td>28</td>\n",
       "    </tr>\n",
       "    <tr>\n",
       "      <th>2</th>\n",
       "      <td>Dongguk University-Los Angeles</td>\n",
       "      <td>5112</td>\n",
       "      <td>Medicine.</td>\n",
       "      <td>5</td>\n",
       "      <td>Master's Degree</td>\n",
       "      <td>0</td>\n",
       "      <td>11300.0</td>\n",
       "      <td>28</td>\n",
       "    </tr>\n",
       "    <tr>\n",
       "      <th>3</th>\n",
       "      <td>Acupuncture and Integrative Medicine College-Berkeley</td>\n",
       "      <td>5133</td>\n",
       "      <td>Alternative and Complementary Medicine and Medical Systems.</td>\n",
       "      <td>5</td>\n",
       "      <td>Master's Degree</td>\n",
       "      <td>27</td>\n",
       "      <td>15200.0</td>\n",
       "      <td>55</td>\n",
       "    </tr>\n",
       "    <tr>\n",
       "      <th>4</th>\n",
       "      <td>Academy of Art University</td>\n",
       "      <td>5007</td>\n",
       "      <td>Fine and Studio Arts.</td>\n",
       "      <td>5</td>\n",
       "      <td>Master's Degree</td>\n",
       "      <td>48</td>\n",
       "      <td>15300.0</td>\n",
       "      <td>103</td>\n",
       "    </tr>\n",
       "    <tr>\n",
       "      <th>5</th>\n",
       "      <td>University of Illinois at Urbana-Champaign</td>\n",
       "      <td>5009</td>\n",
       "      <td>Music.</td>\n",
       "      <td>5</td>\n",
       "      <td>Master's Degree</td>\n",
       "      <td>30</td>\n",
       "      <td>15500.0</td>\n",
       "      <td>133</td>\n",
       "    </tr>\n",
       "    <tr>\n",
       "      <th>6</th>\n",
       "      <td>Emperor's College of Traditional Oriental Medicine</td>\n",
       "      <td>5133</td>\n",
       "      <td>Alternative and Complementary Medicine and Medical Systems.</td>\n",
       "      <td>5</td>\n",
       "      <td>Master's Degree</td>\n",
       "      <td>32</td>\n",
       "      <td>15900.0</td>\n",
       "      <td>165</td>\n",
       "    </tr>\n",
       "    <tr>\n",
       "      <th>7</th>\n",
       "      <td>New York Academy of Art</td>\n",
       "      <td>5007</td>\n",
       "      <td>Fine and Studio Arts.</td>\n",
       "      <td>5</td>\n",
       "      <td>Master's Degree</td>\n",
       "      <td>41</td>\n",
       "      <td>16000.0</td>\n",
       "      <td>206</td>\n",
       "    </tr>\n",
       "    <tr>\n",
       "      <th>8</th>\n",
       "      <td>University of Puerto Rico-Rio Piedras</td>\n",
       "      <td>402</td>\n",
       "      <td>Architecture.</td>\n",
       "      <td>5</td>\n",
       "      <td>Master's Degree</td>\n",
       "      <td>34</td>\n",
       "      <td>16100.0</td>\n",
       "      <td>240</td>\n",
       "    </tr>\n",
       "    <tr>\n",
       "      <th>9</th>\n",
       "      <td>University of Southern California</td>\n",
       "      <td>5009</td>\n",
       "      <td>Music.</td>\n",
       "      <td>5</td>\n",
       "      <td>Master's Degree</td>\n",
       "      <td>46</td>\n",
       "      <td>16200.0</td>\n",
       "      <td>286</td>\n",
       "    </tr>\n",
       "  </tbody>\n",
       "</table>\n",
       "</div>"
      ],
      "text/plain": [
       "                                                  INSTNM  CIPCODE  \\\n",
       "0                                  Stanbridge University     5123   \n",
       "1                                          Touro College     3001   \n",
       "2                         Dongguk University-Los Angeles     5112   \n",
       "3  Acupuncture and Integrative Medicine College-Berkeley     5133   \n",
       "4                              Academy of Art University     5007   \n",
       "5             University of Illinois at Urbana-Champaign     5009   \n",
       "6     Emperor's College of Traditional Oriental Medicine     5133   \n",
       "7                                New York Academy of Art     5007   \n",
       "8                  University of Puerto Rico-Rio Piedras      402   \n",
       "9                      University of Southern California     5009   \n",
       "\n",
       "                                                       CIPDESC  CREDLEV  \\\n",
       "0                  Rehabilitation and Therapeutic Professions.        5   \n",
       "1                            Biological and Physical Sciences.        5   \n",
       "2                                                    Medicine.        5   \n",
       "3  Alternative and Complementary Medicine and Medical Systems.        5   \n",
       "4                                        Fine and Studio Arts.        5   \n",
       "5                                                       Music.        5   \n",
       "6  Alternative and Complementary Medicine and Medical Systems.        5   \n",
       "7                                        Fine and Studio Arts.        5   \n",
       "8                                                Architecture.        5   \n",
       "9                                                       Music.        5   \n",
       "\n",
       "          CREDDESC  EARN_COUNT_WNE_HI_1YR  EARN_MDN_HI_1YR  num_below  \n",
       "0  Master's Degree                      0           5500.0          0  \n",
       "1  Master's Degree                     28           9500.0         28  \n",
       "2  Master's Degree                      0          11300.0         28  \n",
       "3  Master's Degree                     27          15200.0         55  \n",
       "4  Master's Degree                     48          15300.0        103  \n",
       "5  Master's Degree                     30          15500.0        133  \n",
       "6  Master's Degree                     32          15900.0        165  \n",
       "7  Master's Degree                     41          16000.0        206  \n",
       "8  Master's Degree                     34          16100.0        240  \n",
       "9  Master's Degree                     46          16200.0        286  "
      ]
     },
     "execution_count": 15,
     "metadata": {},
     "output_type": "execute_result"
    }
   ],
   "source": [
    "df_ms.head(10)"
   ]
  },
  {
   "cell_type": "code",
   "execution_count": 16,
   "metadata": {},
   "outputs": [
    {
     "data": {
      "text/html": [
       "<div>\n",
       "<style scoped>\n",
       "    .dataframe tbody tr th:only-of-type {\n",
       "        vertical-align: middle;\n",
       "    }\n",
       "\n",
       "    .dataframe tbody tr th {\n",
       "        vertical-align: top;\n",
       "    }\n",
       "\n",
       "    .dataframe thead th {\n",
       "        text-align: right;\n",
       "    }\n",
       "</style>\n",
       "<table border=\"1\" class=\"dataframe\">\n",
       "  <thead>\n",
       "    <tr style=\"text-align: right;\">\n",
       "      <th></th>\n",
       "      <th>INSTNM</th>\n",
       "      <th>CIPCODE</th>\n",
       "      <th>CIPDESC</th>\n",
       "      <th>CREDLEV</th>\n",
       "      <th>CREDDESC</th>\n",
       "      <th>EARN_COUNT_WNE_HI_1YR</th>\n",
       "      <th>EARN_MDN_HI_1YR</th>\n",
       "      <th>num_below</th>\n",
       "    </tr>\n",
       "  </thead>\n",
       "  <tbody>\n",
       "    <tr>\n",
       "      <th>7613</th>\n",
       "      <td>University of California-San Francisco</td>\n",
       "      <td>5114</td>\n",
       "      <td>Medical Clinical Sciences/Graduate Medical Studies.</td>\n",
       "      <td>5</td>\n",
       "      <td>Master's Degree</td>\n",
       "      <td>29</td>\n",
       "      <td>184500.0</td>\n",
       "      <td>1057633</td>\n",
       "    </tr>\n",
       "    <tr>\n",
       "      <th>7614</th>\n",
       "      <td>University of New England</td>\n",
       "      <td>5138</td>\n",
       "      <td>Registered Nursing, Nursing Administration, Nursing Research and Clinical Nursing.</td>\n",
       "      <td>5</td>\n",
       "      <td>Master's Degree</td>\n",
       "      <td>21</td>\n",
       "      <td>184700.0</td>\n",
       "      <td>1057654</td>\n",
       "    </tr>\n",
       "    <tr>\n",
       "      <th>7615</th>\n",
       "      <td>Saint Mary's University of Minnesota</td>\n",
       "      <td>5138</td>\n",
       "      <td>Registered Nursing, Nursing Administration, Nursing Research and Clinical Nursing.</td>\n",
       "      <td>5</td>\n",
       "      <td>Master's Degree</td>\n",
       "      <td>81</td>\n",
       "      <td>186000.0</td>\n",
       "      <td>1057735</td>\n",
       "    </tr>\n",
       "    <tr>\n",
       "      <th>7616</th>\n",
       "      <td>Central Connecticut State University</td>\n",
       "      <td>5138</td>\n",
       "      <td>Registered Nursing, Nursing Administration, Nursing Research and Clinical Nursing.</td>\n",
       "      <td>5</td>\n",
       "      <td>Master's Degree</td>\n",
       "      <td>62</td>\n",
       "      <td>188500.0</td>\n",
       "      <td>1057797</td>\n",
       "    </tr>\n",
       "    <tr>\n",
       "      <th>7617</th>\n",
       "      <td>Duke University</td>\n",
       "      <td>5211</td>\n",
       "      <td>International Business.</td>\n",
       "      <td>5</td>\n",
       "      <td>Master's Degree</td>\n",
       "      <td>21</td>\n",
       "      <td>189400.0</td>\n",
       "      <td>1057818</td>\n",
       "    </tr>\n",
       "    <tr>\n",
       "      <th>7618</th>\n",
       "      <td>University of Washington-Seattle Campus</td>\n",
       "      <td>5105</td>\n",
       "      <td>Advanced/Graduate Dentistry and Oral Sciences.</td>\n",
       "      <td>5</td>\n",
       "      <td>Master's Degree</td>\n",
       "      <td>26</td>\n",
       "      <td>197000.0</td>\n",
       "      <td>1057844</td>\n",
       "    </tr>\n",
       "    <tr>\n",
       "      <th>7619</th>\n",
       "      <td>University of Pennsylvania</td>\n",
       "      <td>5199</td>\n",
       "      <td>Health Professions and Related Clinical Sciences, Other.</td>\n",
       "      <td>5</td>\n",
       "      <td>Master's Degree</td>\n",
       "      <td>23</td>\n",
       "      <td>197100.0</td>\n",
       "      <td>1057867</td>\n",
       "    </tr>\n",
       "    <tr>\n",
       "      <th>7620</th>\n",
       "      <td>University of Michigan-Ann Arbor</td>\n",
       "      <td>5105</td>\n",
       "      <td>Advanced/Graduate Dentistry and Oral Sciences.</td>\n",
       "      <td>5</td>\n",
       "      <td>Master's Degree</td>\n",
       "      <td>29</td>\n",
       "      <td>204000.0</td>\n",
       "      <td>1057896</td>\n",
       "    </tr>\n",
       "    <tr>\n",
       "      <th>7621</th>\n",
       "      <td>Virginia Commonwealth University</td>\n",
       "      <td>5105</td>\n",
       "      <td>Advanced/Graduate Dentistry and Oral Sciences.</td>\n",
       "      <td>5</td>\n",
       "      <td>Master's Degree</td>\n",
       "      <td>25</td>\n",
       "      <td>208600.0</td>\n",
       "      <td>1057921</td>\n",
       "    </tr>\n",
       "    <tr>\n",
       "      <th>7622</th>\n",
       "      <td>Ohio State University-Main Campus</td>\n",
       "      <td>5104</td>\n",
       "      <td>Dentistry.</td>\n",
       "      <td>5</td>\n",
       "      <td>Master's Degree</td>\n",
       "      <td>0</td>\n",
       "      <td>231200.0</td>\n",
       "      <td>1057921</td>\n",
       "    </tr>\n",
       "  </tbody>\n",
       "</table>\n",
       "</div>"
      ],
      "text/plain": [
       "                                       INSTNM  CIPCODE  \\\n",
       "7613   University of California-San Francisco     5114   \n",
       "7614                University of New England     5138   \n",
       "7615     Saint Mary's University of Minnesota     5138   \n",
       "7616     Central Connecticut State University     5138   \n",
       "7617                          Duke University     5211   \n",
       "7618  University of Washington-Seattle Campus     5105   \n",
       "7619               University of Pennsylvania     5199   \n",
       "7620         University of Michigan-Ann Arbor     5105   \n",
       "7621         Virginia Commonwealth University     5105   \n",
       "7622        Ohio State University-Main Campus     5104   \n",
       "\n",
       "                                                                                 CIPDESC  \\\n",
       "7613                                 Medical Clinical Sciences/Graduate Medical Studies.   \n",
       "7614  Registered Nursing, Nursing Administration, Nursing Research and Clinical Nursing.   \n",
       "7615  Registered Nursing, Nursing Administration, Nursing Research and Clinical Nursing.   \n",
       "7616  Registered Nursing, Nursing Administration, Nursing Research and Clinical Nursing.   \n",
       "7617                                                             International Business.   \n",
       "7618                                      Advanced/Graduate Dentistry and Oral Sciences.   \n",
       "7619                            Health Professions and Related Clinical Sciences, Other.   \n",
       "7620                                      Advanced/Graduate Dentistry and Oral Sciences.   \n",
       "7621                                      Advanced/Graduate Dentistry and Oral Sciences.   \n",
       "7622                                                                          Dentistry.   \n",
       "\n",
       "      CREDLEV         CREDDESC  EARN_COUNT_WNE_HI_1YR  EARN_MDN_HI_1YR  \\\n",
       "7613        5  Master's Degree                     29         184500.0   \n",
       "7614        5  Master's Degree                     21         184700.0   \n",
       "7615        5  Master's Degree                     81         186000.0   \n",
       "7616        5  Master's Degree                     62         188500.0   \n",
       "7617        5  Master's Degree                     21         189400.0   \n",
       "7618        5  Master's Degree                     26         197000.0   \n",
       "7619        5  Master's Degree                     23         197100.0   \n",
       "7620        5  Master's Degree                     29         204000.0   \n",
       "7621        5  Master's Degree                     25         208600.0   \n",
       "7622        5  Master's Degree                      0         231200.0   \n",
       "\n",
       "      num_below  \n",
       "7613    1057633  \n",
       "7614    1057654  \n",
       "7615    1057735  \n",
       "7616    1057797  \n",
       "7617    1057818  \n",
       "7618    1057844  \n",
       "7619    1057867  \n",
       "7620    1057896  \n",
       "7621    1057921  \n",
       "7622    1057921  "
      ]
     },
     "execution_count": 16,
     "metadata": {},
     "output_type": "execute_result"
    }
   ],
   "source": [
    "df_ms.tail(10)"
   ]
  },
  {
   "cell_type": "markdown",
   "metadata": {},
   "source": [
    "Data is prepped.\n",
    "\n",
    "Next, I'll calculate the percentage of graduates at a lower degree level earning at or above the median for a higher degree level. \n",
    "\n",
    "First up, I'll calculate the percentage of Bachelors degree graduates who earn more than the median for Masters degree holders (for 1st year earnings). \n",
    "\n",
    "To do this, I'll need to calculate the median salary for all MS degree recipients, then calculate the percentage of bachelors degree recipients exceed it.\n",
    "\n",
    "As mentioned above, this isn't as easy as finding the salary for the median *program*, since each program has a differing cohort size. I need to find the salary for the median *graduate*, not *program*. To do this, I first find the salary for the program and cohort closest to the median masters student (using the cumulative count of all students, called \"num_below\"). "
   ]
  },
  {
   "cell_type": "code",
   "execution_count": 17,
   "metadata": {},
   "outputs": [
    {
     "data": {
      "text/html": [
       "<div>\n",
       "<style scoped>\n",
       "    .dataframe tbody tr th:only-of-type {\n",
       "        vertical-align: middle;\n",
       "    }\n",
       "\n",
       "    .dataframe tbody tr th {\n",
       "        vertical-align: top;\n",
       "    }\n",
       "\n",
       "    .dataframe thead th {\n",
       "        text-align: right;\n",
       "    }\n",
       "</style>\n",
       "<table border=\"1\" class=\"dataframe\">\n",
       "  <thead>\n",
       "    <tr style=\"text-align: right;\">\n",
       "      <th></th>\n",
       "      <th>EARN_MDN_HI_1YR</th>\n",
       "    </tr>\n",
       "  </thead>\n",
       "  <tbody>\n",
       "    <tr>\n",
       "      <th>0</th>\n",
       "      <td>54400.0</td>\n",
       "    </tr>\n",
       "  </tbody>\n",
       "</table>\n",
       "</div>"
      ],
      "text/plain": [
       "   EARN_MDN_HI_1YR\n",
       "0          54400.0"
      ]
     },
     "execution_count": 17,
     "metadata": {},
     "output_type": "execute_result"
    }
   ],
   "source": [
    "pysqldf(\"\"\"\n",
    "SELECT \n",
    "        EARN_MDN_HI_1YR \n",
    "    FROM \n",
    "        (SELECT \n",
    "            *, \n",
    "            ABS(num_below - (SELECT MAX(num_below)/2 FROM df_ms)) AS D \n",
    "        FROM \n",
    "            df_ms\n",
    "        ORDER BY D \n",
    "        LIMIT 1)\n",
    "\"\"\")"
   ]
  },
  {
   "cell_type": "markdown",
   "metadata": {},
   "source": [
    "Now that I have this number, I can count the number of graduates at a different degree level have a salary above that number, and then divide it by the total number of grads at that degree level to get the percentage."
   ]
  },
  {
   "cell_type": "code",
   "execution_count": 52,
   "metadata": {},
   "outputs": [
    {
     "data": {
      "text/html": [
       "<div>\n",
       "<style scoped>\n",
       "    .dataframe tbody tr th:only-of-type {\n",
       "        vertical-align: middle;\n",
       "    }\n",
       "\n",
       "    .dataframe tbody tr th {\n",
       "        vertical-align: top;\n",
       "    }\n",
       "\n",
       "    .dataframe thead th {\n",
       "        text-align: right;\n",
       "    }\n",
       "</style>\n",
       "<table border=\"1\" class=\"dataframe\">\n",
       "  <thead>\n",
       "    <tr style=\"text-align: right;\">\n",
       "      <th></th>\n",
       "      <th>PCT_ABOVE</th>\n",
       "    </tr>\n",
       "  </thead>\n",
       "  <tbody>\n",
       "    <tr>\n",
       "      <th>0</th>\n",
       "      <td>0.166612</td>\n",
       "    </tr>\n",
       "  </tbody>\n",
       "</table>\n",
       "</div>"
      ],
      "text/plain": [
       "   PCT_ABOVE\n",
       "0   0.166612"
      ]
     },
     "execution_count": 52,
     "metadata": {},
     "output_type": "execute_result"
    }
   ],
   "source": [
    "pysqldf(\"\"\"\n",
    "SELECT \n",
    "    SUM(EARN_COUNT_WNE_HI_1YR) * 1.0 / (SELECT MAX(num_below) FROM df_bach) * 1.0 AS PCT_ABOVE\n",
    "FROM \n",
    "    df_bach \n",
    "WHERE \n",
    "    EARN_MDN_HI_1YR >= 54400.0\n",
    "\"\"\")"
   ]
  },
  {
   "cell_type": "markdown",
   "metadata": {},
   "source": [
    "Now that I've been through the calc pipeline once, I'm going to modularize it so I can do the calculations for any two degree levels."
   ]
  },
  {
   "cell_type": "markdown",
   "metadata": {},
   "source": [
    "#### A little more explanation for this calculation query/pipeline.\n",
    "\n",
    "I want to find the percent of graduates at one degree level who have a 1st year salary at or above the median for a different degree level. \n",
    "\n",
    "The data is not reported for each graduate. Instead, the data includes a row for each cohort for each degree program/instution. This row includes the number of graduates and the median 1yr pay for this group. \n",
    "\n",
    "To find the medians, I ordered the data by 1yr pay in ascending order, then created a new column that holds the cumulative number of graduates at or below each row (called \"num_below\", as it provides the number of graduates at or below the median salary for a particular cohort within each degree level). I use this column to find the 1yr salary of the median graduate for each degree level (rather than the median program). \n",
    "\n",
    "Now that I have the median 1yr salary for a degree level, I can find the number of graduates at or above this median for graduates from a different degree level (using the same num_row column column). \n",
    "\n",
    "\n",
    "The queries in the cell below carry out these calculations - first the median for a degree level (\"med\"), then the percentage at or above it from a different degree level \"above\"). "
   ]
  },
  {
   "cell_type": "code",
   "execution_count": 18,
   "metadata": {},
   "outputs": [],
   "source": [
    "def pct_at_or_above_median(med, above):\n",
    "\n",
    "    return pysqldf(\"\"\"\n",
    "    WITH med AS \n",
    "    (\n",
    "    SELECT \n",
    "        EARN_MDN_HI_1YR \n",
    "    FROM \n",
    "        (SELECT \n",
    "            *, \n",
    "            ABS(num_below - (SELECT MAX(num_below)/2 FROM {0})) AS D \n",
    "        FROM \n",
    "            {0} \n",
    "        ORDER BY D \n",
    "        LIMIT 1)\n",
    "    )\n",
    "\n",
    "    SELECT \n",
    "        SUM(EARN_COUNT_WNE_HI_1YR) * 1.0 / (SELECT MAX(num_below) FROM {1}) * 1.0 AS PCT_ABOVE\n",
    "    FROM \n",
    "        {1} \n",
    "    WHERE \n",
    "        EARN_MDN_HI_1YR >= (SELECT EARN_MDN_HI_1YR FROM med)\n",
    "\n",
    "    \"\"\".format(med, above))"
   ]
  },
  {
   "cell_type": "markdown",
   "metadata": {},
   "source": [
    "For reference, here again are the numbers for the *general working population 25-64*\n",
    "\n",
    "- 27 percent of workers with an associate’s degree earn more than the median for workers with a bachelor’s degree\n",
    "- 35 percent of workers with a bachelor’s degree earn more than the median for workers with a master’s degree\n",
    "- 31 percent of workers with a master’s degree earn more than the median for workers with a doctoral degree\n",
    "- 22 percent of workers with a master’s degree earn more than the median for workers with a professional degree."
   ]
  },
  {
   "cell_type": "markdown",
   "metadata": {},
   "source": [
    "### Results from the 1516-1617 dataset\n",
    "\n",
    "Here are the calculations (using the pipeline above)."
   ]
  },
  {
   "cell_type": "markdown",
   "metadata": {},
   "source": [
    "#### Percent of associates above median for bachelors"
   ]
  },
  {
   "cell_type": "code",
   "execution_count": 26,
   "metadata": {},
   "outputs": [
    {
     "data": {
      "text/html": [
       "<div>\n",
       "<style scoped>\n",
       "    .dataframe tbody tr th:only-of-type {\n",
       "        vertical-align: middle;\n",
       "    }\n",
       "\n",
       "    .dataframe tbody tr th {\n",
       "        vertical-align: top;\n",
       "    }\n",
       "\n",
       "    .dataframe thead th {\n",
       "        text-align: right;\n",
       "    }\n",
       "</style>\n",
       "<table border=\"1\" class=\"dataframe\">\n",
       "  <thead>\n",
       "    <tr style=\"text-align: right;\">\n",
       "      <th></th>\n",
       "      <th>PCT_ABOVE</th>\n",
       "    </tr>\n",
       "  </thead>\n",
       "  <tbody>\n",
       "    <tr>\n",
       "      <th>0</th>\n",
       "      <td>0.177478</td>\n",
       "    </tr>\n",
       "  </tbody>\n",
       "</table>\n",
       "</div>"
      ],
      "text/plain": [
       "   PCT_ABOVE\n",
       "0   0.177478"
      ]
     },
     "execution_count": 26,
     "metadata": {},
     "output_type": "execute_result"
    }
   ],
   "source": [
    "pct_at_or_above_median('df_bach', 'df_asoc')"
   ]
  },
  {
   "cell_type": "markdown",
   "metadata": {},
   "source": [
    "#### Percent of bachelors above median for masters"
   ]
  },
  {
   "cell_type": "code",
   "execution_count": 20,
   "metadata": {},
   "outputs": [
    {
     "data": {
      "text/html": [
       "<div>\n",
       "<style scoped>\n",
       "    .dataframe tbody tr th:only-of-type {\n",
       "        vertical-align: middle;\n",
       "    }\n",
       "\n",
       "    .dataframe tbody tr th {\n",
       "        vertical-align: top;\n",
       "    }\n",
       "\n",
       "    .dataframe thead th {\n",
       "        text-align: right;\n",
       "    }\n",
       "</style>\n",
       "<table border=\"1\" class=\"dataframe\">\n",
       "  <thead>\n",
       "    <tr style=\"text-align: right;\">\n",
       "      <th></th>\n",
       "      <th>PCT_ABOVE</th>\n",
       "    </tr>\n",
       "  </thead>\n",
       "  <tbody>\n",
       "    <tr>\n",
       "      <th>0</th>\n",
       "      <td>0.166612</td>\n",
       "    </tr>\n",
       "  </tbody>\n",
       "</table>\n",
       "</div>"
      ],
      "text/plain": [
       "   PCT_ABOVE\n",
       "0   0.166612"
      ]
     },
     "execution_count": 20,
     "metadata": {},
     "output_type": "execute_result"
    }
   ],
   "source": [
    "pct_at_or_above_median('df_ms', 'df_bach')"
   ]
  },
  {
   "cell_type": "markdown",
   "metadata": {},
   "source": [
    "#### Percent of masters above median for doctoral"
   ]
  },
  {
   "cell_type": "code",
   "execution_count": 19,
   "metadata": {},
   "outputs": [
    {
     "data": {
      "text/html": [
       "<div>\n",
       "<style scoped>\n",
       "    .dataframe tbody tr th:only-of-type {\n",
       "        vertical-align: middle;\n",
       "    }\n",
       "\n",
       "    .dataframe tbody tr th {\n",
       "        vertical-align: top;\n",
       "    }\n",
       "\n",
       "    .dataframe thead th {\n",
       "        text-align: right;\n",
       "    }\n",
       "</style>\n",
       "<table border=\"1\" class=\"dataframe\">\n",
       "  <thead>\n",
       "    <tr style=\"text-align: right;\">\n",
       "      <th></th>\n",
       "      <th>PCT_ABOVE</th>\n",
       "    </tr>\n",
       "  </thead>\n",
       "  <tbody>\n",
       "    <tr>\n",
       "      <th>0</th>\n",
       "      <td>0.154378</td>\n",
       "    </tr>\n",
       "  </tbody>\n",
       "</table>\n",
       "</div>"
      ],
      "text/plain": [
       "   PCT_ABOVE\n",
       "0  0.154378 "
      ]
     },
     "execution_count": 19,
     "metadata": {},
     "output_type": "execute_result"
    }
   ],
   "source": [
    "pct_at_or_above_median('df_doc', 'df_ms')"
   ]
  },
  {
   "cell_type": "code",
   "execution_count": 20,
   "metadata": {},
   "outputs": [
    {
     "data": {
      "text/html": [
       "<div>\n",
       "<style scoped>\n",
       "    .dataframe tbody tr th:only-of-type {\n",
       "        vertical-align: middle;\n",
       "    }\n",
       "\n",
       "    .dataframe tbody tr th {\n",
       "        vertical-align: top;\n",
       "    }\n",
       "\n",
       "    .dataframe thead th {\n",
       "        text-align: right;\n",
       "    }\n",
       "</style>\n",
       "<table border=\"1\" class=\"dataframe\">\n",
       "  <thead>\n",
       "    <tr style=\"text-align: right;\">\n",
       "      <th></th>\n",
       "      <th>PCT_ABOVE</th>\n",
       "    </tr>\n",
       "  </thead>\n",
       "  <tbody>\n",
       "    <tr>\n",
       "      <th>0</th>\n",
       "      <td>0.283655</td>\n",
       "    </tr>\n",
       "  </tbody>\n",
       "</table>\n",
       "</div>"
      ],
      "text/plain": [
       "   PCT_ABOVE\n",
       "0  0.283655 "
      ]
     },
     "execution_count": 20,
     "metadata": {},
     "output_type": "execute_result"
    }
   ],
   "source": [
    "pct_at_or_above_median('df_prof', 'df_ms')"
   ]
  },
  {
   "cell_type": "markdown",
   "metadata": {},
   "source": [
    "### Calculations based on median program, rather than median graduate\n",
    "\n",
    "It might be useful to look at the data by program level rather than individual.\n",
    "\n",
    "I think that the individual calculation provides a better comparison with the general population measures, so this is included as an addendum. \n"
   ]
  },
  {
   "cell_type": "code",
   "execution_count": 21,
   "metadata": {},
   "outputs": [],
   "source": [
    "m_asoc = df_asoc.describe()['EARN_MDN_HI_1YR']['50%']\n",
    "m_bach = df_bach.describe()['EARN_MDN_HI_1YR']['50%']\n",
    "m_ms = df_ms.describe()['EARN_MDN_HI_1YR']['50%']\n",
    "m_doc = df_doc.describe()['EARN_MDN_HI_1YR']['50%']\n",
    "m_prof = df_prof.describe()['EARN_MDN_HI_1YR']['50%']"
   ]
  },
  {
   "cell_type": "code",
   "execution_count": 22,
   "metadata": {},
   "outputs": [
    {
     "name": "stdout",
     "output_type": "stream",
     "text": [
      "29400.0\n",
      "34500.0\n",
      "50600.0\n",
      "69150.0\n",
      "61700.0\n"
     ]
    }
   ],
   "source": [
    "print(m_asoc)\n",
    "print(m_bach)\n",
    "print(m_ms)\n",
    "print(m_doc)\n",
    "print(m_prof)"
   ]
  },
  {
   "cell_type": "code",
   "execution_count": 23,
   "metadata": {},
   "outputs": [],
   "source": [
    "def pct_at_or_above_median_program(median, degree):\n",
    "    return pysqldf(\"\"\"\n",
    "    SELECT (COUNT(*) * 1.0) / ((SELECT COUNT(*) FROM {0})*1.0) as pct_above\n",
    "    FROM {0} WHERE EARN_MDN_HI_1YR >= {1}\"\"\".format(degree, median))"
   ]
  },
  {
   "cell_type": "code",
   "execution_count": 24,
   "metadata": {},
   "outputs": [
    {
     "data": {
      "text/html": [
       "<div>\n",
       "<style scoped>\n",
       "    .dataframe tbody tr th:only-of-type {\n",
       "        vertical-align: middle;\n",
       "    }\n",
       "\n",
       "    .dataframe tbody tr th {\n",
       "        vertical-align: top;\n",
       "    }\n",
       "\n",
       "    .dataframe thead th {\n",
       "        text-align: right;\n",
       "    }\n",
       "</style>\n",
       "<table border=\"1\" class=\"dataframe\">\n",
       "  <thead>\n",
       "    <tr style=\"text-align: right;\">\n",
       "      <th></th>\n",
       "      <th>pct_above</th>\n",
       "    </tr>\n",
       "  </thead>\n",
       "  <tbody>\n",
       "    <tr>\n",
       "      <th>0</th>\n",
       "      <td>0.35324</td>\n",
       "    </tr>\n",
       "  </tbody>\n",
       "</table>\n",
       "</div>"
      ],
      "text/plain": [
       "   pct_above\n",
       "0  0.35324  "
      ]
     },
     "execution_count": 24,
     "metadata": {},
     "output_type": "execute_result"
    }
   ],
   "source": [
    "pct_at_or_above_median_program(m_bach, 'df_asoc')"
   ]
  },
  {
   "cell_type": "code",
   "execution_count": 25,
   "metadata": {},
   "outputs": [
    {
     "data": {
      "text/html": [
       "<div>\n",
       "<style scoped>\n",
       "    .dataframe tbody tr th:only-of-type {\n",
       "        vertical-align: middle;\n",
       "    }\n",
       "\n",
       "    .dataframe tbody tr th {\n",
       "        vertical-align: top;\n",
       "    }\n",
       "\n",
       "    .dataframe thead th {\n",
       "        text-align: right;\n",
       "    }\n",
       "</style>\n",
       "<table border=\"1\" class=\"dataframe\">\n",
       "  <thead>\n",
       "    <tr style=\"text-align: right;\">\n",
       "      <th></th>\n",
       "      <th>pct_above</th>\n",
       "    </tr>\n",
       "  </thead>\n",
       "  <tbody>\n",
       "    <tr>\n",
       "      <th>0</th>\n",
       "      <td>0.188873</td>\n",
       "    </tr>\n",
       "  </tbody>\n",
       "</table>\n",
       "</div>"
      ],
      "text/plain": [
       "   pct_above\n",
       "0  0.188873 "
      ]
     },
     "execution_count": 25,
     "metadata": {},
     "output_type": "execute_result"
    }
   ],
   "source": [
    "pct_at_or_above_median_program(m_ms, 'df_bach')"
   ]
  },
  {
   "cell_type": "code",
   "execution_count": 26,
   "metadata": {},
   "outputs": [
    {
     "data": {
      "text/html": [
       "<div>\n",
       "<style scoped>\n",
       "    .dataframe tbody tr th:only-of-type {\n",
       "        vertical-align: middle;\n",
       "    }\n",
       "\n",
       "    .dataframe tbody tr th {\n",
       "        vertical-align: top;\n",
       "    }\n",
       "\n",
       "    .dataframe thead th {\n",
       "        text-align: right;\n",
       "    }\n",
       "</style>\n",
       "<table border=\"1\" class=\"dataframe\">\n",
       "  <thead>\n",
       "    <tr style=\"text-align: right;\">\n",
       "      <th></th>\n",
       "      <th>pct_above</th>\n",
       "    </tr>\n",
       "  </thead>\n",
       "  <tbody>\n",
       "    <tr>\n",
       "      <th>0</th>\n",
       "      <td>0.195199</td>\n",
       "    </tr>\n",
       "  </tbody>\n",
       "</table>\n",
       "</div>"
      ],
      "text/plain": [
       "   pct_above\n",
       "0  0.195199 "
      ]
     },
     "execution_count": 26,
     "metadata": {},
     "output_type": "execute_result"
    }
   ],
   "source": [
    "pct_at_or_above_median_program(m_doc, 'df_ms')"
   ]
  },
  {
   "cell_type": "code",
   "execution_count": 27,
   "metadata": {},
   "outputs": [
    {
     "data": {
      "text/html": [
       "<div>\n",
       "<style scoped>\n",
       "    .dataframe tbody tr th:only-of-type {\n",
       "        vertical-align: middle;\n",
       "    }\n",
       "\n",
       "    .dataframe tbody tr th {\n",
       "        vertical-align: top;\n",
       "    }\n",
       "\n",
       "    .dataframe thead th {\n",
       "        text-align: right;\n",
       "    }\n",
       "</style>\n",
       "<table border=\"1\" class=\"dataframe\">\n",
       "  <thead>\n",
       "    <tr style=\"text-align: right;\">\n",
       "      <th></th>\n",
       "      <th>pct_above</th>\n",
       "    </tr>\n",
       "  </thead>\n",
       "  <tbody>\n",
       "    <tr>\n",
       "      <th>0</th>\n",
       "      <td>0.279418</td>\n",
       "    </tr>\n",
       "  </tbody>\n",
       "</table>\n",
       "</div>"
      ],
      "text/plain": [
       "   pct_above\n",
       "0  0.279418 "
      ]
     },
     "execution_count": 27,
     "metadata": {},
     "output_type": "execute_result"
    }
   ],
   "source": [
    "pct_at_or_above_median_program(m_prof, 'df_ms')"
   ]
  },
  {
   "cell_type": "code",
   "execution_count": null,
   "metadata": {},
   "outputs": [],
   "source": []
  }
 ],
 "metadata": {
  "kernelspec": {
   "display_name": "Python 3",
   "language": "python",
   "name": "python3"
  },
  "language_info": {
   "codemirror_mode": {
    "name": "ipython",
    "version": 3
   },
   "file_extension": ".py",
   "mimetype": "text/x-python",
   "name": "python",
   "nbconvert_exporter": "python",
   "pygments_lexer": "ipython3",
   "version": "3.6.8"
  }
 },
 "nbformat": 4,
 "nbformat_minor": 2
}
