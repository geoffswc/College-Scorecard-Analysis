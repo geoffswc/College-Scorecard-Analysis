{
 "cells": [
  {
   "cell_type": "markdown",
   "metadata": {},
   "source": [
    "WaPo article here:\n",
    "\n",
    "https://www.washingtonpost.com/local/education/college-major-salary/2020/12/24/cad0f5de-44b3-11eb-b0e4-0f182923a025_story.html\n",
    "\n",
    "References publication:\n",
    "    \n",
    "http://cew.georgetown.edu/wp-content/uploads/CEW-Buyer-Beware.pdf\n",
    "    \n",
    "I'm trying to recreate the results from the data. The study appears to have used the 1516-1617 data. I'm basing this on spot checking various data points in the article - these match the 1516-1617 csv file. This notebook will work for most recent cohorts as well, though the numbers change (in many cases 1yr pay is considerably higher in the more recent data set). "
   ]
  },
  {
   "cell_type": "markdown",
   "metadata": {},
   "source": [
    "Trying to reproduce these results:\n",
    "\n",
    " 27 percent of workers with an associate’s degree earn more than the median for workers with a bachelor’s degree\n",
    "\n",
    " 35 percent of workers with a bachelor’s degree earn more than the median for workers with a master’s degree\n",
    "\n",
    " 31 percent of workers with a master’s degree earn more than the median for workers with a doctoral degree\n",
    "\n",
    " 22 percent of workers with a master’s degree earn more than the median for workers with a professional degree.6"
   ]
  },
  {
   "cell_type": "markdown",
   "metadata": {},
   "source": [
    "I was unable to verify these figures. Code is below. "
   ]
  },
  {
   "cell_type": "code",
   "execution_count": 1,
   "metadata": {},
   "outputs": [],
   "source": [
    "import pandas as pd\n",
    "pd.set_option('display.max_colwidth', -1)\n",
    "from pandasql import sqldf\n",
    "pysqldf = lambda q: sqldf(q, globals())"
   ]
  },
  {
   "cell_type": "markdown",
   "metadata": {},
   "source": [
    "Using the data referenced in the article.\n",
    "\n",
    "https://collegescorecard.ed.gov/data/\n",
    "    \n",
    "Links to:\n",
    "\n",
    "https://data.ed.gov/dataset/college-scorecard-all-data-files-through-6-2020/resources\n",
    "\n",
    "Downloaded \"All College Scorecard Data Files\"\n",
    "\n",
    "Using Most-Recent-Cohorts-Field-of-Study (downloaded 1/5/2021)"
   ]
  },
  {
   "cell_type": "code",
   "execution_count": 2,
   "metadata": {},
   "outputs": [],
   "source": [
    "df = pd.read_csv('data/FieldOfStudyData1516_1617_PP.csv')"
   ]
  },
  {
   "cell_type": "code",
   "execution_count": 3,
   "metadata": {},
   "outputs": [
    {
     "data": {
      "text/plain": [
       "218901"
      ]
     },
     "execution_count": 3,
     "metadata": {},
     "output_type": "execute_result"
    }
   ],
   "source": [
    "len(df)"
   ]
  },
  {
   "cell_type": "markdown",
   "metadata": {},
   "source": [
    "Removing lines without data (PrivacySuppressed). I think this results from cohorts that are small enough that the results are personally identifiable. "
   ]
  },
  {
   "cell_type": "code",
   "execution_count": 5,
   "metadata": {},
   "outputs": [],
   "source": [
    "df_1yr = pysqldf(\"\"\"\n",
    "SELECT \n",
    "    INSTNM, \n",
    "    CIPCODE,\n",
    "    CIPDESC, \n",
    "    CREDLEV, \n",
    "    CREDDESC, \n",
    "    EARN_COUNT_WNE_HI_1YR * 1 AS EARN_COUNT_WNE_HI_1YR, \n",
    "    EARN_MDN_HI_1YR * 1.0 AS EARN_MDN_HI_1YR\n",
    "FROM \n",
    "    df\n",
    "WHERE\n",
    "    EARN_MDN_HI_1YR <> 'PrivacySuppressed'\n",
    "ORDER BY EARN_MDN_HI_1YR\n",
    "\"\"\")"
   ]
  },
  {
   "cell_type": "code",
   "execution_count": 6,
   "metadata": {},
   "outputs": [
    {
     "data": {
      "text/html": [
       "<div>\n",
       "<style scoped>\n",
       "    .dataframe tbody tr th:only-of-type {\n",
       "        vertical-align: middle;\n",
       "    }\n",
       "\n",
       "    .dataframe tbody tr th {\n",
       "        vertical-align: top;\n",
       "    }\n",
       "\n",
       "    .dataframe thead th {\n",
       "        text-align: right;\n",
       "    }\n",
       "</style>\n",
       "<table border=\"1\" class=\"dataframe\">\n",
       "  <thead>\n",
       "    <tr style=\"text-align: right;\">\n",
       "      <th></th>\n",
       "      <th>CREDLEV</th>\n",
       "      <th>CREDDESC</th>\n",
       "    </tr>\n",
       "  </thead>\n",
       "  <tbody>\n",
       "    <tr>\n",
       "      <th>0</th>\n",
       "      <td>1</td>\n",
       "      <td>Undergraduate Certificate or Diploma</td>\n",
       "    </tr>\n",
       "    <tr>\n",
       "      <th>1</th>\n",
       "      <td>2</td>\n",
       "      <td>Associate's Degree</td>\n",
       "    </tr>\n",
       "    <tr>\n",
       "      <th>2</th>\n",
       "      <td>3</td>\n",
       "      <td>Bachelors Degree</td>\n",
       "    </tr>\n",
       "    <tr>\n",
       "      <th>3</th>\n",
       "      <td>4</td>\n",
       "      <td>Post-baccalaureate Certificate</td>\n",
       "    </tr>\n",
       "    <tr>\n",
       "      <th>4</th>\n",
       "      <td>5</td>\n",
       "      <td>Master's Degree</td>\n",
       "    </tr>\n",
       "    <tr>\n",
       "      <th>5</th>\n",
       "      <td>6</td>\n",
       "      <td>Doctoral Degree</td>\n",
       "    </tr>\n",
       "    <tr>\n",
       "      <th>6</th>\n",
       "      <td>7</td>\n",
       "      <td>First Professional Degree</td>\n",
       "    </tr>\n",
       "    <tr>\n",
       "      <th>7</th>\n",
       "      <td>8</td>\n",
       "      <td>Graduate/Professional Certificate</td>\n",
       "    </tr>\n",
       "  </tbody>\n",
       "</table>\n",
       "</div>"
      ],
      "text/plain": [
       "   CREDLEV                              CREDDESC\n",
       "0  1        Undergraduate Certificate or Diploma\n",
       "1  2        Associate's Degree                  \n",
       "2  3        Bachelors Degree                    \n",
       "3  4        Post-baccalaureate Certificate      \n",
       "4  5        Master's Degree                     \n",
       "5  6        Doctoral Degree                     \n",
       "6  7        First Professional Degree           \n",
       "7  8        Graduate/Professional Certificate   "
      ]
     },
     "execution_count": 6,
     "metadata": {},
     "output_type": "execute_result"
    }
   ],
   "source": [
    "pysqldf(\"SELECT DISTINCT CREDLEV, CREDDESC FROM df_1yr ORDER BY CREDLEV\")"
   ]
  },
  {
   "cell_type": "markdown",
   "metadata": {},
   "source": [
    "First, validate a single easy datapoint.\n",
    "\n",
    "Graduates who earn an associate’s degree from\n",
    "Pierpont Community and Technical College in West Virginia to become an electrical and\n",
    "power transmission installer can expect to make \\\\$6,700 per month (\\\\$80,400 per year) in\n",
    "their first year after graduation.\n",
    "\n",
    "Ever so slightly off, I get \\\\$80,100"
   ]
  },
  {
   "cell_type": "code",
   "execution_count": 7,
   "metadata": {},
   "outputs": [
    {
     "data": {
      "text/html": [
       "<div>\n",
       "<style scoped>\n",
       "    .dataframe tbody tr th:only-of-type {\n",
       "        vertical-align: middle;\n",
       "    }\n",
       "\n",
       "    .dataframe tbody tr th {\n",
       "        vertical-align: top;\n",
       "    }\n",
       "\n",
       "    .dataframe thead th {\n",
       "        text-align: right;\n",
       "    }\n",
       "</style>\n",
       "<table border=\"1\" class=\"dataframe\">\n",
       "  <thead>\n",
       "    <tr style=\"text-align: right;\">\n",
       "      <th></th>\n",
       "      <th>INSTNM</th>\n",
       "      <th>CIPCODE</th>\n",
       "      <th>CIPDESC</th>\n",
       "      <th>CREDLEV</th>\n",
       "      <th>CREDDESC</th>\n",
       "      <th>EARN_COUNT_WNE_HI_1YR</th>\n",
       "      <th>EARN_MDN_HI_1YR</th>\n",
       "    </tr>\n",
       "  </thead>\n",
       "  <tbody>\n",
       "    <tr>\n",
       "      <th>0</th>\n",
       "      <td>Pierpont Community and Technical College</td>\n",
       "      <td>4603</td>\n",
       "      <td>Electrical and Power Transmission Installers.</td>\n",
       "      <td>2</td>\n",
       "      <td>Associate's Degree</td>\n",
       "      <td>0</td>\n",
       "      <td>80100.0</td>\n",
       "    </tr>\n",
       "  </tbody>\n",
       "</table>\n",
       "</div>"
      ],
      "text/plain": [
       "                                     INSTNM  CIPCODE  \\\n",
       "0  Pierpont Community and Technical College  4603      \n",
       "\n",
       "                                         CIPDESC  CREDLEV            CREDDESC  \\\n",
       "0  Electrical and Power Transmission Installers.  2        Associate's Degree   \n",
       "\n",
       "   EARN_COUNT_WNE_HI_1YR  EARN_MDN_HI_1YR  \n",
       "0  0                      80100.0          "
      ]
     },
     "execution_count": 7,
     "metadata": {},
     "output_type": "execute_result"
    }
   ],
   "source": [
    "pysqldf(\"\"\"\n",
    "SELECT \n",
    "    * \n",
    "FROM \n",
    "    df_1yr \n",
    "WHERE \n",
    "    INSTNM = 'Pierpont Community and Technical College'\n",
    "AND \n",
    "    CIPDESC = 'Electrical and Power Transmission Installers.'\n",
    "\"\"\")"
   ]
  },
  {
   "cell_type": "markdown",
   "metadata": {},
   "source": [
    "try one more.\n",
    "\n",
    "For instance, the  rst-year earnings of a person who is awarded\n",
    "an associate’s degree in nursing from City University of New York (CUNY) LaGuardia Community College are \\\\$5,017 per month, which is about \\\\$800 higher than the median monthly earnings of graduates from master’s degree programs at all institutions.\n",
    "\n",
    "Confirmed below. "
   ]
  },
  {
   "cell_type": "code",
   "execution_count": 8,
   "metadata": {},
   "outputs": [
    {
     "data": {
      "text/html": [
       "<div>\n",
       "<style scoped>\n",
       "    .dataframe tbody tr th:only-of-type {\n",
       "        vertical-align: middle;\n",
       "    }\n",
       "\n",
       "    .dataframe tbody tr th {\n",
       "        vertical-align: top;\n",
       "    }\n",
       "\n",
       "    .dataframe thead th {\n",
       "        text-align: right;\n",
       "    }\n",
       "</style>\n",
       "<table border=\"1\" class=\"dataframe\">\n",
       "  <thead>\n",
       "    <tr style=\"text-align: right;\">\n",
       "      <th></th>\n",
       "      <th>INSTNM</th>\n",
       "      <th>CIPCODE</th>\n",
       "      <th>CIPDESC</th>\n",
       "      <th>CREDLEV</th>\n",
       "      <th>CREDDESC</th>\n",
       "      <th>EARN_COUNT_WNE_HI_1YR</th>\n",
       "      <th>EARN_MDN_HI_1YR</th>\n",
       "    </tr>\n",
       "  </thead>\n",
       "  <tbody>\n",
       "    <tr>\n",
       "      <th>0</th>\n",
       "      <td>CUNY LaGuardia Community College</td>\n",
       "      <td>5138</td>\n",
       "      <td>Registered Nursing, Nursing Administration, Nursing Research and Clinical Nursing.</td>\n",
       "      <td>2</td>\n",
       "      <td>Associate's Degree</td>\n",
       "      <td>24</td>\n",
       "      <td>60200.0</td>\n",
       "    </tr>\n",
       "  </tbody>\n",
       "</table>\n",
       "</div>"
      ],
      "text/plain": [
       "                             INSTNM  CIPCODE  \\\n",
       "0  CUNY LaGuardia Community College  5138      \n",
       "\n",
       "                                                                              CIPDESC  \\\n",
       "0  Registered Nursing, Nursing Administration, Nursing Research and Clinical Nursing.   \n",
       "\n",
       "   CREDLEV            CREDDESC  EARN_COUNT_WNE_HI_1YR  EARN_MDN_HI_1YR  \n",
       "0  2        Associate's Degree  24                     60200.0          "
      ]
     },
     "execution_count": 8,
     "metadata": {},
     "output_type": "execute_result"
    }
   ],
   "source": [
    "pysqldf(\"\"\"\n",
    "SELECT \n",
    "    * \n",
    "FROM \n",
    "    df_1yr \n",
    "WHERE \n",
    "    INSTNM = 'CUNY LaGuardia Community College'\n",
    "AND\n",
    "    CIPDESC = 'Registered Nursing, Nursing Administration, Nursing Research and Clinical Nursing.'\n",
    "AND\n",
    "    CREDLEV = 2\n",
    "\"\"\")"
   ]
  },
  {
   "cell_type": "code",
   "execution_count": 9,
   "metadata": {},
   "outputs": [
    {
     "data": {
      "text/plain": [
       "5016.666666666667"
      ]
     },
     "execution_count": 9,
     "metadata": {},
     "output_type": "execute_result"
    }
   ],
   "source": [
    "60200.0 / 12"
   ]
  },
  {
   "cell_type": "markdown",
   "metadata": {},
   "source": [
    "Now moving on to the calcs I'mn trying to verify (percent at one degree level at or above the median for a different degree level).\n",
    "\n",
    "Separate dataframe for each degree level I'll look at. "
   ]
  },
  {
   "cell_type": "code",
   "execution_count": 10,
   "metadata": {},
   "outputs": [],
   "source": [
    "df_asoc = pysqldf(\"SELECT * FROM df_1yr WHERE CREDLEV = 2\")\n",
    "df_bach = pysqldf(\"SELECT * FROM df_1yr WHERE CREDLEV = 3\")\n",
    "df_ms = pysqldf(\"SELECT * FROM df_1yr WHERE CREDLEV = 5\")\n",
    "df_prof = pysqldf(\"SELECT * FROM df_1yr WHERE CREDLEV = 7\")\n",
    "df_doc = pysqldf(\"SELECT * FROM df_1yr WHERE CREDLEV = 6\")"
   ]
  },
  {
   "cell_type": "markdown",
   "metadata": {},
   "source": [
    "To get median for all graduates, I need to consider the number of graduates in each cohort (I can't take the median for all programs as the median for all students, because there are varying numbers in each cohort).\n",
    "\n",
    "To do this, I'll take the cumulative sum of the number of graduates in each program ordered by earnings (2nd year out)."
   ]
  },
  {
   "cell_type": "code",
   "execution_count": 11,
   "metadata": {},
   "outputs": [],
   "source": [
    "df_asoc['num_below'] = df_asoc['EARN_COUNT_WNE_HI_1YR'].cumsum()\n",
    "df_bach['num_below'] = df_bach['EARN_COUNT_WNE_HI_1YR'].cumsum()\n",
    "df_ms['num_below'] = df_ms['EARN_COUNT_WNE_HI_1YR'].cumsum()\n",
    "df_prof['num_below'] = df_prof['EARN_COUNT_WNE_HI_1YR'].cumsum()\n",
    "df_doc['num_below'] = df_doc['EARN_COUNT_WNE_HI_1YR'].cumsum()"
   ]
  },
  {
   "cell_type": "code",
   "execution_count": 12,
   "metadata": {},
   "outputs": [
    {
     "data": {
      "text/html": [
       "<div>\n",
       "<style scoped>\n",
       "    .dataframe tbody tr th:only-of-type {\n",
       "        vertical-align: middle;\n",
       "    }\n",
       "\n",
       "    .dataframe tbody tr th {\n",
       "        vertical-align: top;\n",
       "    }\n",
       "\n",
       "    .dataframe thead th {\n",
       "        text-align: right;\n",
       "    }\n",
       "</style>\n",
       "<table border=\"1\" class=\"dataframe\">\n",
       "  <thead>\n",
       "    <tr style=\"text-align: right;\">\n",
       "      <th></th>\n",
       "      <th>INSTNM</th>\n",
       "      <th>CIPCODE</th>\n",
       "      <th>CIPDESC</th>\n",
       "      <th>CREDLEV</th>\n",
       "      <th>CREDDESC</th>\n",
       "      <th>EARN_COUNT_WNE_HI_1YR</th>\n",
       "      <th>EARN_MDN_HI_1YR</th>\n",
       "      <th>num_below</th>\n",
       "    </tr>\n",
       "  </thead>\n",
       "  <tbody>\n",
       "    <tr>\n",
       "      <th>0</th>\n",
       "      <td>University of Puerto Rico-Ponce</td>\n",
       "      <td>5109</td>\n",
       "      <td>Allied Health Diagnostic, Intervention, and Treatment Professions.</td>\n",
       "      <td>3</td>\n",
       "      <td>Bachelors Degree</td>\n",
       "      <td>24</td>\n",
       "      <td>4400.0</td>\n",
       "      <td>24</td>\n",
       "    </tr>\n",
       "    <tr>\n",
       "      <th>1</th>\n",
       "      <td>Universidad del Sagrado Corazon</td>\n",
       "      <td>904</td>\n",
       "      <td>Journalism.</td>\n",
       "      <td>3</td>\n",
       "      <td>Bachelors Degree</td>\n",
       "      <td>28</td>\n",
       "      <td>5200.0</td>\n",
       "      <td>52</td>\n",
       "    </tr>\n",
       "    <tr>\n",
       "      <th>2</th>\n",
       "      <td>Caribbean University-Bayamon</td>\n",
       "      <td>5108</td>\n",
       "      <td>Allied Health and Medical Assisting Services.</td>\n",
       "      <td>3</td>\n",
       "      <td>Bachelors Degree</td>\n",
       "      <td>50</td>\n",
       "      <td>5500.0</td>\n",
       "      <td>102</td>\n",
       "    </tr>\n",
       "    <tr>\n",
       "      <th>3</th>\n",
       "      <td>Caribbean University-Ponce</td>\n",
       "      <td>5108</td>\n",
       "      <td>Allied Health and Medical Assisting Services.</td>\n",
       "      <td>3</td>\n",
       "      <td>Bachelors Degree</td>\n",
       "      <td>50</td>\n",
       "      <td>5500.0</td>\n",
       "      <td>152</td>\n",
       "    </tr>\n",
       "    <tr>\n",
       "      <th>4</th>\n",
       "      <td>Universidad Ana G. Mendez-Gurabo Campus</td>\n",
       "      <td>5102</td>\n",
       "      <td>Communication Disorders Sciences and Services.</td>\n",
       "      <td>3</td>\n",
       "      <td>Bachelors Degree</td>\n",
       "      <td>96</td>\n",
       "      <td>6300.0</td>\n",
       "      <td>248</td>\n",
       "    </tr>\n",
       "    <tr>\n",
       "      <th>5</th>\n",
       "      <td>University of Puerto Rico-Cayey</td>\n",
       "      <td>5203</td>\n",
       "      <td>Accounting and Related Services.</td>\n",
       "      <td>3</td>\n",
       "      <td>Bachelors Degree</td>\n",
       "      <td>24</td>\n",
       "      <td>6600.0</td>\n",
       "      <td>272</td>\n",
       "    </tr>\n",
       "    <tr>\n",
       "      <th>6</th>\n",
       "      <td>Universidad del Sagrado Corazon</td>\n",
       "      <td>907</td>\n",
       "      <td>Radio, Television, and Digital Communication.</td>\n",
       "      <td>3</td>\n",
       "      <td>Bachelors Degree</td>\n",
       "      <td>43</td>\n",
       "      <td>6800.0</td>\n",
       "      <td>315</td>\n",
       "    </tr>\n",
       "    <tr>\n",
       "      <th>7</th>\n",
       "      <td>Caribbean University-Bayamon</td>\n",
       "      <td>4407</td>\n",
       "      <td>Social Work.</td>\n",
       "      <td>3</td>\n",
       "      <td>Bachelors Degree</td>\n",
       "      <td>26</td>\n",
       "      <td>7100.0</td>\n",
       "      <td>341</td>\n",
       "    </tr>\n",
       "    <tr>\n",
       "      <th>8</th>\n",
       "      <td>Caribbean University-Carolina</td>\n",
       "      <td>4407</td>\n",
       "      <td>Social Work.</td>\n",
       "      <td>3</td>\n",
       "      <td>Bachelors Degree</td>\n",
       "      <td>26</td>\n",
       "      <td>7100.0</td>\n",
       "      <td>367</td>\n",
       "    </tr>\n",
       "    <tr>\n",
       "      <th>9</th>\n",
       "      <td>Caribbean University-Ponce</td>\n",
       "      <td>4407</td>\n",
       "      <td>Social Work.</td>\n",
       "      <td>3</td>\n",
       "      <td>Bachelors Degree</td>\n",
       "      <td>26</td>\n",
       "      <td>7100.0</td>\n",
       "      <td>393</td>\n",
       "    </tr>\n",
       "  </tbody>\n",
       "</table>\n",
       "</div>"
      ],
      "text/plain": [
       "                                    INSTNM  CIPCODE  \\\n",
       "0  University of Puerto Rico-Ponce          5109      \n",
       "1  Universidad del Sagrado Corazon          904       \n",
       "2  Caribbean University-Bayamon             5108      \n",
       "3  Caribbean University-Ponce               5108      \n",
       "4  Universidad Ana G. Mendez-Gurabo Campus  5102      \n",
       "5  University of Puerto Rico-Cayey          5203      \n",
       "6  Universidad del Sagrado Corazon          907       \n",
       "7  Caribbean University-Bayamon             4407      \n",
       "8  Caribbean University-Carolina            4407      \n",
       "9  Caribbean University-Ponce               4407      \n",
       "\n",
       "                                                              CIPDESC  \\\n",
       "0  Allied Health Diagnostic, Intervention, and Treatment Professions.   \n",
       "1  Journalism.                                                          \n",
       "2  Allied Health and Medical Assisting Services.                        \n",
       "3  Allied Health and Medical Assisting Services.                        \n",
       "4  Communication Disorders Sciences and Services.                       \n",
       "5  Accounting and Related Services.                                     \n",
       "6  Radio, Television, and Digital Communication.                        \n",
       "7  Social Work.                                                         \n",
       "8  Social Work.                                                         \n",
       "9  Social Work.                                                         \n",
       "\n",
       "   CREDLEV          CREDDESC  EARN_COUNT_WNE_HI_1YR  EARN_MDN_HI_1YR  \\\n",
       "0  3        Bachelors Degree  24                     4400.0            \n",
       "1  3        Bachelors Degree  28                     5200.0            \n",
       "2  3        Bachelors Degree  50                     5500.0            \n",
       "3  3        Bachelors Degree  50                     5500.0            \n",
       "4  3        Bachelors Degree  96                     6300.0            \n",
       "5  3        Bachelors Degree  24                     6600.0            \n",
       "6  3        Bachelors Degree  43                     6800.0            \n",
       "7  3        Bachelors Degree  26                     7100.0            \n",
       "8  3        Bachelors Degree  26                     7100.0            \n",
       "9  3        Bachelors Degree  26                     7100.0            \n",
       "\n",
       "   num_below  \n",
       "0  24         \n",
       "1  52         \n",
       "2  102        \n",
       "3  152        \n",
       "4  248        \n",
       "5  272        \n",
       "6  315        \n",
       "7  341        \n",
       "8  367        \n",
       "9  393        "
      ]
     },
     "execution_count": 12,
     "metadata": {},
     "output_type": "execute_result"
    }
   ],
   "source": [
    "# quick sanity check, visual inspectin to make sure ordering is correct\n",
    "df_bach.head(10)"
   ]
  },
  {
   "cell_type": "code",
   "execution_count": 13,
   "metadata": {},
   "outputs": [
    {
     "data": {
      "text/html": [
       "<div>\n",
       "<style scoped>\n",
       "    .dataframe tbody tr th:only-of-type {\n",
       "        vertical-align: middle;\n",
       "    }\n",
       "\n",
       "    .dataframe tbody tr th {\n",
       "        vertical-align: top;\n",
       "    }\n",
       "\n",
       "    .dataframe thead th {\n",
       "        text-align: right;\n",
       "    }\n",
       "</style>\n",
       "<table border=\"1\" class=\"dataframe\">\n",
       "  <thead>\n",
       "    <tr style=\"text-align: right;\">\n",
       "      <th></th>\n",
       "      <th>INSTNM</th>\n",
       "      <th>CIPCODE</th>\n",
       "      <th>CIPDESC</th>\n",
       "      <th>CREDLEV</th>\n",
       "      <th>CREDDESC</th>\n",
       "      <th>EARN_COUNT_WNE_HI_1YR</th>\n",
       "      <th>EARN_MDN_HI_1YR</th>\n",
       "      <th>num_below</th>\n",
       "    </tr>\n",
       "  </thead>\n",
       "  <tbody>\n",
       "    <tr>\n",
       "      <th>21380</th>\n",
       "      <td>Yale University</td>\n",
       "      <td>1101</td>\n",
       "      <td>Computer and Information Sciences, General.</td>\n",
       "      <td>3</td>\n",
       "      <td>Bachelors Degree</td>\n",
       "      <td>25</td>\n",
       "      <td>120300.0</td>\n",
       "      <td>2902372</td>\n",
       "    </tr>\n",
       "    <tr>\n",
       "      <th>21381</th>\n",
       "      <td>Massachusetts Institute of Technology</td>\n",
       "      <td>2701</td>\n",
       "      <td>Mathematics.</td>\n",
       "      <td>3</td>\n",
       "      <td>Bachelors Degree</td>\n",
       "      <td>23</td>\n",
       "      <td>120300.0</td>\n",
       "      <td>2902395</td>\n",
       "    </tr>\n",
       "    <tr>\n",
       "      <th>21382</th>\n",
       "      <td>Harvey Mudd College</td>\n",
       "      <td>1107</td>\n",
       "      <td>Computer Science.</td>\n",
       "      <td>3</td>\n",
       "      <td>Bachelors Degree</td>\n",
       "      <td>41</td>\n",
       "      <td>124500.0</td>\n",
       "      <td>2902436</td>\n",
       "    </tr>\n",
       "    <tr>\n",
       "      <th>21383</th>\n",
       "      <td>Harvard University</td>\n",
       "      <td>2705</td>\n",
       "      <td>Statistics.</td>\n",
       "      <td>3</td>\n",
       "      <td>Bachelors Degree</td>\n",
       "      <td>20</td>\n",
       "      <td>126100.0</td>\n",
       "      <td>2902456</td>\n",
       "    </tr>\n",
       "    <tr>\n",
       "      <th>21384</th>\n",
       "      <td>Stanford University</td>\n",
       "      <td>1107</td>\n",
       "      <td>Computer Science.</td>\n",
       "      <td>3</td>\n",
       "      <td>Bachelors Degree</td>\n",
       "      <td>76</td>\n",
       "      <td>126400.0</td>\n",
       "      <td>2902532</td>\n",
       "    </tr>\n",
       "    <tr>\n",
       "      <th>21385</th>\n",
       "      <td>Harvard University</td>\n",
       "      <td>1107</td>\n",
       "      <td>Computer Science.</td>\n",
       "      <td>3</td>\n",
       "      <td>Bachelors Degree</td>\n",
       "      <td>38</td>\n",
       "      <td>128900.0</td>\n",
       "      <td>2902570</td>\n",
       "    </tr>\n",
       "    <tr>\n",
       "      <th>21386</th>\n",
       "      <td>University of Pennsylvania</td>\n",
       "      <td>1101</td>\n",
       "      <td>Computer and Information Sciences, General.</td>\n",
       "      <td>3</td>\n",
       "      <td>Bachelors Degree</td>\n",
       "      <td>30</td>\n",
       "      <td>135200.0</td>\n",
       "      <td>2902600</td>\n",
       "    </tr>\n",
       "    <tr>\n",
       "      <th>21387</th>\n",
       "      <td>Carnegie Mellon University</td>\n",
       "      <td>1107</td>\n",
       "      <td>Computer Science.</td>\n",
       "      <td>3</td>\n",
       "      <td>Bachelors Degree</td>\n",
       "      <td>97</td>\n",
       "      <td>138900.0</td>\n",
       "      <td>2902697</td>\n",
       "    </tr>\n",
       "    <tr>\n",
       "      <th>21388</th>\n",
       "      <td>Brown University</td>\n",
       "      <td>1107</td>\n",
       "      <td>Computer Science.</td>\n",
       "      <td>3</td>\n",
       "      <td>Bachelors Degree</td>\n",
       "      <td>59</td>\n",
       "      <td>141100.0</td>\n",
       "      <td>2902756</td>\n",
       "    </tr>\n",
       "    <tr>\n",
       "      <th>21389</th>\n",
       "      <td>California Institute of Technology</td>\n",
       "      <td>1101</td>\n",
       "      <td>Computer and Information Sciences, General.</td>\n",
       "      <td>3</td>\n",
       "      <td>Bachelors Degree</td>\n",
       "      <td>24</td>\n",
       "      <td>153300.0</td>\n",
       "      <td>2902780</td>\n",
       "    </tr>\n",
       "  </tbody>\n",
       "</table>\n",
       "</div>"
      ],
      "text/plain": [
       "                                      INSTNM  CIPCODE  \\\n",
       "21380  Yale University                        1101      \n",
       "21381  Massachusetts Institute of Technology  2701      \n",
       "21382  Harvey Mudd College                    1107      \n",
       "21383  Harvard University                     2705      \n",
       "21384  Stanford University                    1107      \n",
       "21385  Harvard University                     1107      \n",
       "21386  University of Pennsylvania             1101      \n",
       "21387  Carnegie Mellon University             1107      \n",
       "21388  Brown University                       1107      \n",
       "21389  California Institute of Technology     1101      \n",
       "\n",
       "                                           CIPDESC  CREDLEV          CREDDESC  \\\n",
       "21380  Computer and Information Sciences, General.  3        Bachelors Degree   \n",
       "21381  Mathematics.                                 3        Bachelors Degree   \n",
       "21382  Computer Science.                            3        Bachelors Degree   \n",
       "21383  Statistics.                                  3        Bachelors Degree   \n",
       "21384  Computer Science.                            3        Bachelors Degree   \n",
       "21385  Computer Science.                            3        Bachelors Degree   \n",
       "21386  Computer and Information Sciences, General.  3        Bachelors Degree   \n",
       "21387  Computer Science.                            3        Bachelors Degree   \n",
       "21388  Computer Science.                            3        Bachelors Degree   \n",
       "21389  Computer and Information Sciences, General.  3        Bachelors Degree   \n",
       "\n",
       "       EARN_COUNT_WNE_HI_1YR  EARN_MDN_HI_1YR  num_below  \n",
       "21380  25                     120300.0         2902372    \n",
       "21381  23                     120300.0         2902395    \n",
       "21382  41                     124500.0         2902436    \n",
       "21383  20                     126100.0         2902456    \n",
       "21384  76                     126400.0         2902532    \n",
       "21385  38                     128900.0         2902570    \n",
       "21386  30                     135200.0         2902600    \n",
       "21387  97                     138900.0         2902697    \n",
       "21388  59                     141100.0         2902756    \n",
       "21389  24                     153300.0         2902780    "
      ]
     },
     "execution_count": 13,
     "metadata": {},
     "output_type": "execute_result"
    }
   ],
   "source": [
    "df_bach.tail(10)"
   ]
  },
  {
   "cell_type": "markdown",
   "metadata": {},
   "source": [
    "Data is prepped.\n",
    "\n",
    "I'll try to validate the report figures on the percentage of one degree level earning at or above the median for a different degree level. Starting out with what percentage of Bachelors degree graduates earn more than the median for Masters degree holders. \n",
    "\n",
    "First, I'll calculate the median salary for all MS degree recipients.\n",
    "\n",
    "To do this, I find the median salary for the cohort. As mentione above, this isn't as easy as finding the salary for the median program, since they have differing cohort sizes. I need to find the salary for the median graduate. To do this, I find the salary for the program and cohort closest to the median masters student (using the cumulative count of all students, called \"num_below\"). "
   ]
  },
  {
   "cell_type": "code",
   "execution_count": 14,
   "metadata": {},
   "outputs": [
    {
     "data": {
      "text/html": [
       "<div>\n",
       "<style scoped>\n",
       "    .dataframe tbody tr th:only-of-type {\n",
       "        vertical-align: middle;\n",
       "    }\n",
       "\n",
       "    .dataframe tbody tr th {\n",
       "        vertical-align: top;\n",
       "    }\n",
       "\n",
       "    .dataframe thead th {\n",
       "        text-align: right;\n",
       "    }\n",
       "</style>\n",
       "<table border=\"1\" class=\"dataframe\">\n",
       "  <thead>\n",
       "    <tr style=\"text-align: right;\">\n",
       "      <th></th>\n",
       "      <th>EARN_MDN_HI_1YR</th>\n",
       "    </tr>\n",
       "  </thead>\n",
       "  <tbody>\n",
       "    <tr>\n",
       "      <th>0</th>\n",
       "      <td>54400.0</td>\n",
       "    </tr>\n",
       "  </tbody>\n",
       "</table>\n",
       "</div>"
      ],
      "text/plain": [
       "   EARN_MDN_HI_1YR\n",
       "0  54400.0        "
      ]
     },
     "execution_count": 14,
     "metadata": {},
     "output_type": "execute_result"
    }
   ],
   "source": [
    "pysqldf(\"\"\"\n",
    "SELECT \n",
    "        EARN_MDN_HI_1YR \n",
    "    FROM \n",
    "        (SELECT \n",
    "            *, \n",
    "            ABS(num_below - (SELECT MAX(num_below)/2 FROM df_ms)) AS D \n",
    "        FROM \n",
    "            df_ms\n",
    "        ORDER BY D \n",
    "        LIMIT 1)\n",
    "\"\"\")"
   ]
  },
  {
   "cell_type": "markdown",
   "metadata": {},
   "source": [
    "Now that I have hat number, I can count the number of graduates at a different degree level have a salary above that number, and then divide it by the total number of grads at that degree level to get the percentage."
   ]
  },
  {
   "cell_type": "markdown",
   "metadata": {},
   "source": [
    "Problem here... I'm getting ~17% of bachelors grads getting higher salaries than the median masters, which doesn't match the numbers reported in the article. Gotta check this. "
   ]
  },
  {
   "cell_type": "code",
   "execution_count": 15,
   "metadata": {},
   "outputs": [
    {
     "data": {
      "text/html": [
       "<div>\n",
       "<style scoped>\n",
       "    .dataframe tbody tr th:only-of-type {\n",
       "        vertical-align: middle;\n",
       "    }\n",
       "\n",
       "    .dataframe tbody tr th {\n",
       "        vertical-align: top;\n",
       "    }\n",
       "\n",
       "    .dataframe thead th {\n",
       "        text-align: right;\n",
       "    }\n",
       "</style>\n",
       "<table border=\"1\" class=\"dataframe\">\n",
       "  <thead>\n",
       "    <tr style=\"text-align: right;\">\n",
       "      <th></th>\n",
       "      <th>PCT_ABOVE</th>\n",
       "    </tr>\n",
       "  </thead>\n",
       "  <tbody>\n",
       "    <tr>\n",
       "      <th>0</th>\n",
       "      <td>0.166612</td>\n",
       "    </tr>\n",
       "  </tbody>\n",
       "</table>\n",
       "</div>"
      ],
      "text/plain": [
       "   PCT_ABOVE\n",
       "0  0.166612 "
      ]
     },
     "execution_count": 15,
     "metadata": {},
     "output_type": "execute_result"
    }
   ],
   "source": [
    "pysqldf(\"\"\"\n",
    "SELECT \n",
    "    SUM(EARN_COUNT_WNE_HI_1YR) * 1.0 / (SELECT MAX(num_below) FROM df_bach) * 1.0 AS PCT_ABOVE\n",
    "FROM \n",
    "    df_bach \n",
    "WHERE \n",
    "    EARN_MDN_HI_1YR >= 54400.0\n",
    "\"\"\")"
   ]
  },
  {
   "cell_type": "markdown",
   "metadata": {},
   "source": [
    "Made it a little more generalizable, to compare any two degree levels this way"
   ]
  },
  {
   "cell_type": "markdown",
   "metadata": {},
   "source": [
    "A little more explanation of this query.\n",
    "\n",
    "I want to find the percent of graduates at one degree level who have a 1st year salary at or above the median for a different degree level. \n",
    "\n",
    "The data is not reported for each graduate. Instead, the data includes a row for each cohort for each degree program/instution. This row includes the number of graduates and the median 1yr pay for this group. \n",
    "\n",
    "To find the medians, I ordered the data by 1yr pay in ascending order, then created a new column that holds the cumulative number of graduates at or below each row (called \"num_below\", as it provides the number of graduates at or below the median salary for a particular cohort within each degree level). I use this column to find the 1yr salary of the median graduate for each degree level (rather than the median program). \n",
    "\n",
    "Now that I have the median 1yr salary for a degree level, I can find the number of graduates at or above this median for graduates from a different degree level (using the same num_row column column). \n",
    "\n",
    "\n",
    "The queries in the cell below carry out these calculations - first the median for a degree level (\"med\"), then the percentage at or above it from a different degree level \"above\"). "
   ]
  },
  {
   "cell_type": "code",
   "execution_count": 16,
   "metadata": {},
   "outputs": [],
   "source": [
    "def pct_at_or_above_median(med, above):\n",
    "\n",
    "    return pysqldf(\"\"\"\n",
    "    WITH med AS \n",
    "    (\n",
    "    SELECT \n",
    "        EARN_MDN_HI_1YR \n",
    "    FROM \n",
    "        (SELECT \n",
    "            *, \n",
    "            ABS(num_below - (SELECT MAX(num_below)/2 FROM {0})) AS D \n",
    "        FROM \n",
    "            {0} \n",
    "        ORDER BY D \n",
    "        LIMIT 1)\n",
    "    )\n",
    "\n",
    "    SELECT \n",
    "        SUM(EARN_COUNT_WNE_HI_1YR) * 1.0 / (SELECT MAX(num_below) FROM {1}) * 1.0 AS PCT_ABOVE\n",
    "    FROM \n",
    "        {1} \n",
    "    WHERE \n",
    "        EARN_MDN_HI_1YR >= (SELECT EARN_MDN_HI_1YR FROM med)\n",
    "\n",
    "    \"\"\".format(med, above))"
   ]
  },
  {
   "cell_type": "markdown",
   "metadata": {},
   "source": [
    "For quick reference, here's a repeat of the results I'm trying to duplicated\n",
    "\n",
    "- 27 percent of workers with an associate’s degree earn more than the median for workers with a bachelor’s degree\n",
    "- 35 percent of workers with a bachelor’s degree earn more than the median for workers with a master’s degree\n",
    "- 31 percent of workers with a master’s degree earn more than the median for workers with a doctoral degree\n",
    "- 22 percent of workers with a master’s degree earn more than the median for workers with a professional degree."
   ]
  },
  {
   "cell_type": "code",
   "execution_count": 17,
   "metadata": {},
   "outputs": [
    {
     "data": {
      "text/html": [
       "<div>\n",
       "<style scoped>\n",
       "    .dataframe tbody tr th:only-of-type {\n",
       "        vertical-align: middle;\n",
       "    }\n",
       "\n",
       "    .dataframe tbody tr th {\n",
       "        vertical-align: top;\n",
       "    }\n",
       "\n",
       "    .dataframe thead th {\n",
       "        text-align: right;\n",
       "    }\n",
       "</style>\n",
       "<table border=\"1\" class=\"dataframe\">\n",
       "  <thead>\n",
       "    <tr style=\"text-align: right;\">\n",
       "      <th></th>\n",
       "      <th>PCT_ABOVE</th>\n",
       "    </tr>\n",
       "  </thead>\n",
       "  <tbody>\n",
       "    <tr>\n",
       "      <th>0</th>\n",
       "      <td>0.177478</td>\n",
       "    </tr>\n",
       "  </tbody>\n",
       "</table>\n",
       "</div>"
      ],
      "text/plain": [
       "   PCT_ABOVE\n",
       "0  0.177478 "
      ]
     },
     "execution_count": 17,
     "metadata": {},
     "output_type": "execute_result"
    }
   ],
   "source": [
    "pct_at_or_above_median('df_bach', 'df_asoc')"
   ]
  },
  {
   "cell_type": "code",
   "execution_count": 18,
   "metadata": {},
   "outputs": [
    {
     "data": {
      "text/html": [
       "<div>\n",
       "<style scoped>\n",
       "    .dataframe tbody tr th:only-of-type {\n",
       "        vertical-align: middle;\n",
       "    }\n",
       "\n",
       "    .dataframe tbody tr th {\n",
       "        vertical-align: top;\n",
       "    }\n",
       "\n",
       "    .dataframe thead th {\n",
       "        text-align: right;\n",
       "    }\n",
       "</style>\n",
       "<table border=\"1\" class=\"dataframe\">\n",
       "  <thead>\n",
       "    <tr style=\"text-align: right;\">\n",
       "      <th></th>\n",
       "      <th>PCT_ABOVE</th>\n",
       "    </tr>\n",
       "  </thead>\n",
       "  <tbody>\n",
       "    <tr>\n",
       "      <th>0</th>\n",
       "      <td>0.166612</td>\n",
       "    </tr>\n",
       "  </tbody>\n",
       "</table>\n",
       "</div>"
      ],
      "text/plain": [
       "   PCT_ABOVE\n",
       "0  0.166612 "
      ]
     },
     "execution_count": 18,
     "metadata": {},
     "output_type": "execute_result"
    }
   ],
   "source": [
    "pct_at_or_above_median('df_ms', 'df_bach')"
   ]
  },
  {
   "cell_type": "code",
   "execution_count": 19,
   "metadata": {},
   "outputs": [
    {
     "data": {
      "text/html": [
       "<div>\n",
       "<style scoped>\n",
       "    .dataframe tbody tr th:only-of-type {\n",
       "        vertical-align: middle;\n",
       "    }\n",
       "\n",
       "    .dataframe tbody tr th {\n",
       "        vertical-align: top;\n",
       "    }\n",
       "\n",
       "    .dataframe thead th {\n",
       "        text-align: right;\n",
       "    }\n",
       "</style>\n",
       "<table border=\"1\" class=\"dataframe\">\n",
       "  <thead>\n",
       "    <tr style=\"text-align: right;\">\n",
       "      <th></th>\n",
       "      <th>PCT_ABOVE</th>\n",
       "    </tr>\n",
       "  </thead>\n",
       "  <tbody>\n",
       "    <tr>\n",
       "      <th>0</th>\n",
       "      <td>0.154378</td>\n",
       "    </tr>\n",
       "  </tbody>\n",
       "</table>\n",
       "</div>"
      ],
      "text/plain": [
       "   PCT_ABOVE\n",
       "0  0.154378 "
      ]
     },
     "execution_count": 19,
     "metadata": {},
     "output_type": "execute_result"
    }
   ],
   "source": [
    "pct_at_or_above_median('df_doc', 'df_ms')"
   ]
  },
  {
   "cell_type": "code",
   "execution_count": 20,
   "metadata": {},
   "outputs": [
    {
     "data": {
      "text/html": [
       "<div>\n",
       "<style scoped>\n",
       "    .dataframe tbody tr th:only-of-type {\n",
       "        vertical-align: middle;\n",
       "    }\n",
       "\n",
       "    .dataframe tbody tr th {\n",
       "        vertical-align: top;\n",
       "    }\n",
       "\n",
       "    .dataframe thead th {\n",
       "        text-align: right;\n",
       "    }\n",
       "</style>\n",
       "<table border=\"1\" class=\"dataframe\">\n",
       "  <thead>\n",
       "    <tr style=\"text-align: right;\">\n",
       "      <th></th>\n",
       "      <th>PCT_ABOVE</th>\n",
       "    </tr>\n",
       "  </thead>\n",
       "  <tbody>\n",
       "    <tr>\n",
       "      <th>0</th>\n",
       "      <td>0.283655</td>\n",
       "    </tr>\n",
       "  </tbody>\n",
       "</table>\n",
       "</div>"
      ],
      "text/plain": [
       "   PCT_ABOVE\n",
       "0  0.283655 "
      ]
     },
     "execution_count": 20,
     "metadata": {},
     "output_type": "execute_result"
    }
   ],
   "source": [
    "pct_at_or_above_median('df_prof', 'df_ms')"
   ]
  },
  {
   "cell_type": "markdown",
   "metadata": {},
   "source": [
    "### calculatiions based on median program, rather than median graduate\n",
    "\n",
    "It occurred to me that the calculations in the article might have simply used the median for each program rather than each graduate. I tried these calculations below (I don't think this is the right way to do it, since the cohort size varies, but I thought it might explain the discrepancy). \n",
    "\n",
    "These numbers don't match, either, so looks like this doesn't explain why I'm getting different numbers. And like I said above, I don't think this is the right approach to the calcs anyway. "
   ]
  },
  {
   "cell_type": "code",
   "execution_count": 21,
   "metadata": {},
   "outputs": [],
   "source": [
    "m_asoc = df_asoc.describe()['EARN_MDN_HI_1YR']['50%']\n",
    "m_bach = df_bach.describe()['EARN_MDN_HI_1YR']['50%']\n",
    "m_ms = df_ms.describe()['EARN_MDN_HI_1YR']['50%']\n",
    "m_doc = df_doc.describe()['EARN_MDN_HI_1YR']['50%']\n",
    "m_prof = df_prof.describe()['EARN_MDN_HI_1YR']['50%']"
   ]
  },
  {
   "cell_type": "code",
   "execution_count": 22,
   "metadata": {},
   "outputs": [
    {
     "name": "stdout",
     "output_type": "stream",
     "text": [
      "29400.0\n",
      "34500.0\n",
      "50600.0\n",
      "69150.0\n",
      "61700.0\n"
     ]
    }
   ],
   "source": [
    "print(m_asoc)\n",
    "print(m_bach)\n",
    "print(m_ms)\n",
    "print(m_doc)\n",
    "print(m_prof)"
   ]
  },
  {
   "cell_type": "code",
   "execution_count": 23,
   "metadata": {},
   "outputs": [],
   "source": [
    "def pct_at_or_above_median_program(median, degree):\n",
    "    return pysqldf(\"\"\"\n",
    "    SELECT (COUNT(*) * 1.0) / ((SELECT COUNT(*) FROM {0})*1.0) as pct_above\n",
    "    FROM {0} WHERE EARN_MDN_HI_1YR >= {1}\"\"\".format(degree, median))"
   ]
  },
  {
   "cell_type": "code",
   "execution_count": 24,
   "metadata": {},
   "outputs": [
    {
     "data": {
      "text/html": [
       "<div>\n",
       "<style scoped>\n",
       "    .dataframe tbody tr th:only-of-type {\n",
       "        vertical-align: middle;\n",
       "    }\n",
       "\n",
       "    .dataframe tbody tr th {\n",
       "        vertical-align: top;\n",
       "    }\n",
       "\n",
       "    .dataframe thead th {\n",
       "        text-align: right;\n",
       "    }\n",
       "</style>\n",
       "<table border=\"1\" class=\"dataframe\">\n",
       "  <thead>\n",
       "    <tr style=\"text-align: right;\">\n",
       "      <th></th>\n",
       "      <th>pct_above</th>\n",
       "    </tr>\n",
       "  </thead>\n",
       "  <tbody>\n",
       "    <tr>\n",
       "      <th>0</th>\n",
       "      <td>0.35324</td>\n",
       "    </tr>\n",
       "  </tbody>\n",
       "</table>\n",
       "</div>"
      ],
      "text/plain": [
       "   pct_above\n",
       "0  0.35324  "
      ]
     },
     "execution_count": 24,
     "metadata": {},
     "output_type": "execute_result"
    }
   ],
   "source": [
    "pct_at_or_above_median_program(m_bach, 'df_asoc')"
   ]
  },
  {
   "cell_type": "code",
   "execution_count": 25,
   "metadata": {},
   "outputs": [
    {
     "data": {
      "text/html": [
       "<div>\n",
       "<style scoped>\n",
       "    .dataframe tbody tr th:only-of-type {\n",
       "        vertical-align: middle;\n",
       "    }\n",
       "\n",
       "    .dataframe tbody tr th {\n",
       "        vertical-align: top;\n",
       "    }\n",
       "\n",
       "    .dataframe thead th {\n",
       "        text-align: right;\n",
       "    }\n",
       "</style>\n",
       "<table border=\"1\" class=\"dataframe\">\n",
       "  <thead>\n",
       "    <tr style=\"text-align: right;\">\n",
       "      <th></th>\n",
       "      <th>pct_above</th>\n",
       "    </tr>\n",
       "  </thead>\n",
       "  <tbody>\n",
       "    <tr>\n",
       "      <th>0</th>\n",
       "      <td>0.188873</td>\n",
       "    </tr>\n",
       "  </tbody>\n",
       "</table>\n",
       "</div>"
      ],
      "text/plain": [
       "   pct_above\n",
       "0  0.188873 "
      ]
     },
     "execution_count": 25,
     "metadata": {},
     "output_type": "execute_result"
    }
   ],
   "source": [
    "pct_at_or_above_median_program(m_ms, 'df_bach')"
   ]
  },
  {
   "cell_type": "code",
   "execution_count": 26,
   "metadata": {},
   "outputs": [
    {
     "data": {
      "text/html": [
       "<div>\n",
       "<style scoped>\n",
       "    .dataframe tbody tr th:only-of-type {\n",
       "        vertical-align: middle;\n",
       "    }\n",
       "\n",
       "    .dataframe tbody tr th {\n",
       "        vertical-align: top;\n",
       "    }\n",
       "\n",
       "    .dataframe thead th {\n",
       "        text-align: right;\n",
       "    }\n",
       "</style>\n",
       "<table border=\"1\" class=\"dataframe\">\n",
       "  <thead>\n",
       "    <tr style=\"text-align: right;\">\n",
       "      <th></th>\n",
       "      <th>pct_above</th>\n",
       "    </tr>\n",
       "  </thead>\n",
       "  <tbody>\n",
       "    <tr>\n",
       "      <th>0</th>\n",
       "      <td>0.195199</td>\n",
       "    </tr>\n",
       "  </tbody>\n",
       "</table>\n",
       "</div>"
      ],
      "text/plain": [
       "   pct_above\n",
       "0  0.195199 "
      ]
     },
     "execution_count": 26,
     "metadata": {},
     "output_type": "execute_result"
    }
   ],
   "source": [
    "pct_at_or_above_median_program(m_doc, 'df_ms')"
   ]
  },
  {
   "cell_type": "code",
   "execution_count": 27,
   "metadata": {},
   "outputs": [
    {
     "data": {
      "text/html": [
       "<div>\n",
       "<style scoped>\n",
       "    .dataframe tbody tr th:only-of-type {\n",
       "        vertical-align: middle;\n",
       "    }\n",
       "\n",
       "    .dataframe tbody tr th {\n",
       "        vertical-align: top;\n",
       "    }\n",
       "\n",
       "    .dataframe thead th {\n",
       "        text-align: right;\n",
       "    }\n",
       "</style>\n",
       "<table border=\"1\" class=\"dataframe\">\n",
       "  <thead>\n",
       "    <tr style=\"text-align: right;\">\n",
       "      <th></th>\n",
       "      <th>pct_above</th>\n",
       "    </tr>\n",
       "  </thead>\n",
       "  <tbody>\n",
       "    <tr>\n",
       "      <th>0</th>\n",
       "      <td>0.279418</td>\n",
       "    </tr>\n",
       "  </tbody>\n",
       "</table>\n",
       "</div>"
      ],
      "text/plain": [
       "   pct_above\n",
       "0  0.279418 "
      ]
     },
     "execution_count": 27,
     "metadata": {},
     "output_type": "execute_result"
    }
   ],
   "source": [
    "pct_at_or_above_median_program(m_prof, 'df_ms')"
   ]
  },
  {
   "cell_type": "code",
   "execution_count": null,
   "metadata": {},
   "outputs": [],
   "source": []
  }
 ],
 "metadata": {
  "kernelspec": {
   "display_name": "Python 3",
   "language": "python",
   "name": "python3"
  },
  "language_info": {
   "codemirror_mode": {
    "name": "ipython",
    "version": 3
   },
   "file_extension": ".py",
   "mimetype": "text/x-python",
   "name": "python",
   "nbconvert_exporter": "python",
   "pygments_lexer": "ipython3",
   "version": "3.6.8"
  }
 },
 "nbformat": 4,
 "nbformat_minor": 2
}
