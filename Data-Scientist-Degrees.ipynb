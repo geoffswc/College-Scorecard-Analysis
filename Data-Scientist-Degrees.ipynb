{
 "cells": [
  {
   "cell_type": "markdown",
   "metadata": {},
   "source": [
    "## Data Science Degrees\n",
    "\n",
    "This workbook investigates the pay data for degrees typically specified in Data Science and related positions.\n",
    "\n",
    "I pulled this blurb from a job posting. \n",
    "\n",
    "\"Degree must be in Mathematics, Applied Mathematics, Statistics, Applied Statistics, Machine Learning, Data Science, Operations Research, or Computer Science\".\n",
    "\n",
    "This job posting is more specific than most in degree requirements - for example, it doesn't include Engineering, and it specifically mentions Operations Research. I'll stick with this for the analysis here, but there's no clear rule for what to include or exclude when identifying \"data science\" degrees. Many engineeirng graduates (not included) work as data scientists, and many computer scientists (included) don't - in fact, most graduates of the degree programs listed above don't work as data scientists. \n",
    "\n",
    "I am also assuming that the pay distribution for degree recipients in these fields who enter data science is similar enough to other fields (software engineering, statistician, etc) that the median numbers for each overall cohort is a useful metric for graduates who specificaally enter data science as a job category. \n",
    "\n",
    "Another factor is that for privacy concerns, data is not provided when the size of the graduating cohort falls below a certain threshold. This has a particularly notable influence on doctoral level programs, which tend to be much smaller than masters of bachelors level programs. It also means that programs with lower enrollment and smaller departments such as operations research may be less likely to report data than larger departments with higher enrollmnt, like computers science. \n",
    "\n",
    "With those disclaimers, let's take a look the numbers at the bachelors, masters, and doctoral level. \n"
   ]
  },
  {
   "cell_type": "code",
   "execution_count": 11,
   "metadata": {},
   "outputs": [],
   "source": [
    "import pandas as pd\n",
    "pd.set_option('display.max_colwidth', None)\n",
    "pd.set_option('display.max_rows', None)\n",
    "from pandasql import sqldf\n",
    "pysqldf = lambda q: sqldf(q, globals())\n",
    "import qgrid"
   ]
  },
  {
   "cell_type": "markdown",
   "metadata": {},
   "source": [
    "A quick lookup table for credlev to degree level..."
   ]
  },
  {
   "cell_type": "code",
   "execution_count": 12,
   "metadata": {},
   "outputs": [],
   "source": [
    "df = pd.read_csv('data/Most-Recent-Cohorts-Field-of-Study.csv')"
   ]
  },
  {
   "cell_type": "code",
   "execution_count": 6,
   "metadata": {},
   "outputs": [
    {
     "data": {
      "text/html": [
       "<div>\n",
       "<style scoped>\n",
       "    .dataframe tbody tr th:only-of-type {\n",
       "        vertical-align: middle;\n",
       "    }\n",
       "\n",
       "    .dataframe tbody tr th {\n",
       "        vertical-align: top;\n",
       "    }\n",
       "\n",
       "    .dataframe thead th {\n",
       "        text-align: right;\n",
       "    }\n",
       "</style>\n",
       "<table border=\"1\" class=\"dataframe\">\n",
       "  <thead>\n",
       "    <tr style=\"text-align: right;\">\n",
       "      <th></th>\n",
       "      <th>CREDLEV</th>\n",
       "      <th>CREDDESC</th>\n",
       "    </tr>\n",
       "  </thead>\n",
       "  <tbody>\n",
       "    <tr>\n",
       "      <th>0</th>\n",
       "      <td>3</td>\n",
       "      <td>Bachelors Degree</td>\n",
       "    </tr>\n",
       "    <tr>\n",
       "      <th>1</th>\n",
       "      <td>5</td>\n",
       "      <td>Master's Degree</td>\n",
       "    </tr>\n",
       "    <tr>\n",
       "      <th>2</th>\n",
       "      <td>6</td>\n",
       "      <td>Doctoral Degree</td>\n",
       "    </tr>\n",
       "    <tr>\n",
       "      <th>3</th>\n",
       "      <td>8</td>\n",
       "      <td>Graduate/Professional Certificate</td>\n",
       "    </tr>\n",
       "    <tr>\n",
       "      <th>4</th>\n",
       "      <td>7</td>\n",
       "      <td>First Professional Degree</td>\n",
       "    </tr>\n",
       "    <tr>\n",
       "      <th>5</th>\n",
       "      <td>1</td>\n",
       "      <td>Undergraduate Certificate or Diploma</td>\n",
       "    </tr>\n",
       "    <tr>\n",
       "      <th>6</th>\n",
       "      <td>2</td>\n",
       "      <td>Associate's Degree</td>\n",
       "    </tr>\n",
       "    <tr>\n",
       "      <th>7</th>\n",
       "      <td>4</td>\n",
       "      <td>Post-baccalaureate Certificate</td>\n",
       "    </tr>\n",
       "  </tbody>\n",
       "</table>\n",
       "</div>"
      ],
      "text/plain": [
       "   CREDLEV                              CREDDESC\n",
       "0        3                      Bachelors Degree\n",
       "1        5                       Master's Degree\n",
       "2        6                       Doctoral Degree\n",
       "3        8     Graduate/Professional Certificate\n",
       "4        7             First Professional Degree\n",
       "5        1  Undergraduate Certificate or Diploma\n",
       "6        2                    Associate's Degree\n",
       "7        4        Post-baccalaureate Certificate"
      ]
     },
     "execution_count": 6,
     "metadata": {},
     "output_type": "execute_result"
    }
   ],
   "source": [
    "pysqldf(\"\"\"\n",
    "SELECT \n",
    "    DISTINCT CREDLEV, CREDDESC\n",
    "FROM\n",
    "    df\n",
    "\"\"\")"
   ]
  },
  {
   "cell_type": "markdown",
   "metadata": {},
   "source": [
    "Bachelors level"
   ]
  },
  {
   "cell_type": "code",
   "execution_count": 8,
   "metadata": {},
   "outputs": [
    {
     "data": {
      "application/vnd.jupyter.widget-view+json": {
       "model_id": "e8ff5a10aaf04828b8660550e5278401",
       "version_major": 2,
       "version_minor": 0
      },
      "text/plain": [
       "QgridWidget(grid_options={'fullWidthRows': True, 'syncColumnCellResize': True, 'forceFitColumns': True, 'defau…"
      ]
     },
     "metadata": {},
     "output_type": "display_data"
    }
   ],
   "source": [
    "qgrid.show_grid(pysqldf(\"\"\"\n",
    "SELECT \n",
    "    INSTNM, CIPDESC, CREDDESC, EARN_MDN_HI_1YR, EARN_MDN_HI_2YR\n",
    "FROM \n",
    "    df \n",
    "WHERE\n",
    "    (CIPDESC LIKE '%Mathematics%' \n",
    "    OR \n",
    "    CIPDESC LIKE '%Computer Science%'\n",
    "    OR\n",
    "    CIPDESC LIKE '%Statistics%'\n",
    "    OR\n",
    "    CIPDESC LIKE '%Operations Research%'\n",
    "    )\n",
    "AND \n",
    "    -- bachelors degree level\n",
    "    CREDLEV = 3 \n",
    "AND\n",
    "    EARN_MDN_HI_1YR <> 'PrivacySuppressed'\n",
    "ORDER BY \n",
    "    (EARN_MDN_HI_1YR * 1) DESC\n",
    "\"\"\"))"
   ]
  },
  {
   "cell_type": "markdown",
   "metadata": {},
   "source": [
    "Masters Level"
   ]
  },
  {
   "cell_type": "code",
   "execution_count": 10,
   "metadata": {},
   "outputs": [
    {
     "data": {
      "application/vnd.jupyter.widget-view+json": {
       "model_id": "00412406372a4877a62a32cd391ef6bf",
       "version_major": 2,
       "version_minor": 0
      },
      "text/plain": [
       "QgridWidget(grid_options={'fullWidthRows': True, 'syncColumnCellResize': True, 'forceFitColumns': True, 'defau…"
      ]
     },
     "metadata": {},
     "output_type": "display_data"
    }
   ],
   "source": [
    "qgrid.show_grid(pysqldf(\"\"\"\n",
    "SELECT \n",
    "    INSTNM, CIPDESC, CREDDESC, EARN_MDN_HI_1YR, EARN_MDN_HI_2YR\n",
    "FROM \n",
    "    df \n",
    "WHERE\n",
    "    (CIPDESC LIKE '%Mathematics%' \n",
    "    OR \n",
    "    CIPDESC LIKE '%Computer Science%'\n",
    "    OR\n",
    "    CIPDESC LIKE '%Statistics%'\n",
    "    OR\n",
    "    CIPDESC LIKE '%Operations Research%'\n",
    "    )\n",
    "AND \n",
    "    -- masters degree level\n",
    "    CREDLEV = 5\n",
    "AND\n",
    "    EARN_MDN_HI_1YR <> 'PrivacySuppressed'\n",
    "ORDER BY \n",
    "    (EARN_MDN_HI_1YR * 1) DESC\n",
    "\"\"\"))"
   ]
  },
  {
   "cell_type": "markdown",
   "metadata": {},
   "source": [
    "Doctoral Level"
   ]
  },
  {
   "cell_type": "code",
   "execution_count": 9,
   "metadata": {},
   "outputs": [
    {
     "data": {
      "application/vnd.jupyter.widget-view+json": {
       "model_id": "9b2847a1aabc4b63b4784d5bd39a2cd0",
       "version_major": 2,
       "version_minor": 0
      },
      "text/plain": [
       "QgridWidget(grid_options={'fullWidthRows': True, 'syncColumnCellResize': True, 'forceFitColumns': True, 'defau…"
      ]
     },
     "metadata": {},
     "output_type": "display_data"
    }
   ],
   "source": [
    "qgrid.show_grid(pysqldf(\"\"\"\n",
    "SELECT \n",
    "    INSTNM, CIPDESC, CREDDESC, EARN_MDN_HI_1YR, EARN_MDN_HI_2YR\n",
    "FROM \n",
    "    df \n",
    "WHERE\n",
    "    (CIPDESC LIKE '%Mathematics%' \n",
    "    OR \n",
    "    CIPDESC LIKE '%Computer Science%'\n",
    "    OR\n",
    "    CIPDESC LIKE '%Statistics%'\n",
    "    OR\n",
    "    CIPDESC LIKE '%Operations Research%'\n",
    "    )\n",
    "AND \n",
    "    -- doctoral degree level\n",
    "    CREDLEV = 6\n",
    "AND\n",
    "    EARN_MDN_HI_1YR <> 'PrivacySuppressed'\n",
    "ORDER BY \n",
    "    (EARN_MDN_HI_1YR * 1) DESC\n",
    "\"\"\"))"
   ]
  },
  {
   "cell_type": "code",
   "execution_count": null,
   "metadata": {},
   "outputs": [],
   "source": []
  }
 ],
 "metadata": {
  "kernelspec": {
   "display_name": "Python 3",
   "language": "python",
   "name": "python3"
  },
  "language_info": {
   "codemirror_mode": {
    "name": "ipython",
    "version": 3
   },
   "file_extension": ".py",
   "mimetype": "text/x-python",
   "name": "python",
   "nbconvert_exporter": "python",
   "pygments_lexer": "ipython3",
   "version": "3.6.8"
  }
 },
 "nbformat": 4,
 "nbformat_minor": 2
}
